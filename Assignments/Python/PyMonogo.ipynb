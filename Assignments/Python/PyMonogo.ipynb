{
 "cells": [
  {
   "cell_type": "markdown",
   "metadata": {
    "ExecuteTime": {
     "end_time": "2019-03-09T18:17:02.340243Z",
     "start_time": "2019-03-09T18:17:02.218766Z"
    }
   },
   "source": [
    "# MongoDB - PyMongo \n",
    "####  Shubham Kumar [18030142032]"
   ]
  },
  {
   "cell_type": "markdown",
   "metadata": {
    "ExecuteTime": {
     "end_time": "2019-03-09T18:17:24.296008Z",
     "start_time": "2019-03-09T18:17:23.743980Z"
    }
   },
   "source": [
    "<b>MongoDB</b> is an open source document-oriented database system that stores data in form of documents (key and value pairs). It is part of the NoSQL family of database systems. Instead of storing data in tables as done in a relational database, MongoDB stores structured data as JSON-like documents with dynamic schemas (MongoDB calls the format BSON), making the integration of data in certain types of applications easier and faster. The database is used by MTV Networks, Craigslist, Foursquare and UIDAI Aadhaar. MongoDB is the most popular NoSQL database management system.<br>\n",
    "\n",
    "<b>PyMongo</b> is a Python distribution containing tools for working with MongoDB, and is the recommended way to work with MongoDB from Python."
   ]
  },
  {
   "cell_type": "markdown",
   "metadata": {},
   "source": [
    "## <br> Downloading and Installation -"
   ]
  },
  {
   "cell_type": "markdown",
   "metadata": {},
   "source": [
    "<b>[MongoDB]</b><br>\n",
    "Follow the instructions given in the link to download and install MongoDB on your system:<br>\n",
    "https://docs.mongodb.com/manual/administration/install-community/<br>\n",
    "\n",
    "<b>[PyMongo]</b><br>\n",
    "Follow the instructions given in the link to download and install PyMongo on your systen:<br>\n",
    "https://api.mongodb.com/python/current/installation.html<br>\n",
    "or use PIP to install : $ python -m pip install pymongo "
   ]
  },
  {
   "cell_type": "markdown",
   "metadata": {},
   "source": [
    "## <br><br> Introduction to NoSQL \n",
    "NoSQL databases are different than relational databases. In relational database you need to create the table, define schema, set the data types of fields etc before you can actually insert the data. In NoSQL you don’t have to worry about that, you can insert, update data on the fly.<br>\n",
    "NoSQL database are easy to scale and they are much faster in most types of operations that we perform on database. There are certain situations where you would prefer relational database over NoSQL, however when you are dealing with huge amount of data then NoSQL database is your best choice.<br><br>\n",
    "<b>Types of NoSQL Databases:</b><br><br>\n",
    "<b>Key Value Store:</b> Memcached, Redis, Coherence<br>\n",
    "<b>Tabular:</b> Hbase, Big Table, Accumulo<br>\n",
    "<b>Document based:</b> MongoDB, CouchDB, Cloudant<br>\n",
    "<br>\n",
    "    \n",
    "<b>When to choose NoSQL Database</b>\n",
    "\n",
    "    When you want to store and retrieve huge amount of data.\n",
    "    The relationship between the data you store is not that important\n",
    "    The data is not structured and changing over time\n",
    "    Constraints and Joins support is not required at database level\n",
    "    The data is growing continuously and you need to scale the database regular to handle the data.\n"
   ]
  },
  {
   "cell_type": "markdown",
   "metadata": {},
   "source": [
    "## Differences between some NoSQL Databases\n",
    "<img src=\"./Cassandra_Reddis.png\" style=\"width:100%\">\n",
    "<br><br>\n",
    "<img src=\"./Mongo_Hadoop.png\" style=\"width:100%\">\n",
    "<br><br>"
   ]
  },
  {
   "cell_type": "markdown",
   "metadata": {},
   "source": [
    "## MongoDB Features - \n",
    "1. MongoDB provides high performance. Most of the operations in the MongoDB are faster compared to relational databases.\n",
    "2. MongoDB provides auto replication feature that allows you to quickly recover data in case of a failure.\n",
    "3. Horizontal scaling is possible in MongoDB because of sharing. Sharding is partitioning of data and placing it on multiple machines in such a way that the order of the data is preserved. Horizontal scaling means adding more machines to handle the data.\n",
    "4. Load balancing: Horizontal scaling allows MongoDB to balanace the load.\n",
    "5. High Availabilty: Auto Replication improves the availability of MongoDB database.\n",
    "6. Indexing: Index is a single field within the document. Indexes are used to quickly locate data without having to search every document in a MongoDB database. This improves the performance of operations performed on the MongoDB database."
   ]
  },
  {
   "cell_type": "markdown",
   "metadata": {},
   "source": [
    "## <br><br> Documents and Collections \n",
    "<b>Document</b> is the unit of storing data in a MongoDB database.\n",
    "Document use JSON (JavaScript Object Notation) style for storing data.\n",
    "<br><br>\n",
    "<b>JSON</b> is short for JavaScript Object Notation, and is a way to store information  easy-to-access manner. \n",
    "It gives us a human-readable collection of data that we can access in a really logical manner.\n",
    "It can be stored in array or nested format also.<br>\n",
    "JSON Example:<br>\n",
    "<code>{\"menu\": {\n",
    "      \"id\": \"file\",\n",
    "      \"value\": \"File\",\n",
    "      \"popup\": {\n",
    "        \"menuitem\": [\n",
    "          {\"value\": \"New\", \"onclick\": \"CreateNewDoc()\"},\n",
    "          {\"value\": \"Open\", \"onclick\": \"OpenDoc()\"},\n",
    "          {\"value\": \"Close\", \"onclick\": \"CloseDoc()\"}\n",
    "        ]\n",
    "      }\n",
    "    }}</code>\n",
    "    \n",
    "It’s easy for developers to work with  no sql as there is no structure to collections and as many keys can be added to documents whereas it’s not possible with RDBMS without changing table structure.\n",
    "In relational database systems you must define a schema before adding records to a database. \n",
    "The schema is the structure described in a formal language supported by the database and provides a blueprint for the tables in a database and the relationships between tables of data. \n",
    "NOSQL is faster because it does not deal with any structure metadata ,\n",
    "We can design no sql in structured way also that’s why it’s call not only sql - NOSQL<br><br>\n",
    "\n",
    "<b>Collection: </b>A collection may store a number of documents. A collection is analogous to a table of an RDBMS.A collection may store documents those who are not same in structure. \n",
    "<br><br>\n",
    "\n",
    "### Key Differences\n",
    "\n",
    "\n",
    "<b>Table(SQL) - RDBMS</b>\n",
    "* Maintains relations between the data\n",
    "* Fixed or predefined schema Data is stored in rows and columns\n",
    "* Foreign Key relations are supported by DB.\n",
    "* Data will not be stored if we violate any of the column data type or foreign key or primary key.\n",
    "* Joins can be used effectively to query the data.\n",
    "* Vertically Scalable (would be limited on the hardware, say you cannot keep on adding RAM into a server machine, The machine has its own limit of how much RAM can be increased) Storing and Retrieving is comparatively slower when data is huge.\n",
    "\n",
    "<br>\n",
    "\n",
    "<b>MongoDB Collection - NoSQL </b>\n",
    "* No relation is maintained between the data - Dynamic Schema\n",
    "* Data is stored as Document\n",
    "* Dynamic schema allows to save the document of any data type or any number of parameters.\n",
    "* Horizontally Scalable which is simply can be done by adding more servers - Storing and Retrieving is faster\n",
    "* No explicit foreign Key support is available whereas we can design the schema by having foreign key\n"
   ]
  },
  {
   "cell_type": "markdown",
   "metadata": {},
   "source": [
    "## Mapping RDBMS to MongoDB\n",
    "<img src=\"./RDBMS_MongoDB_Mapping.jpg\">\n",
    "\n",
    "    Collections in MongoDB is equivalent to the tables in RDBMS.\n",
    "    Documents in MongoDB is equivalent to the rows in RDBMS.\n",
    "    Fields in MongoDB is equivalent to the columns in RDBMS."
   ]
  },
  {
   "cell_type": "markdown",
   "metadata": {},
   "source": [
    "### <br>Table vs Collection\n",
    "<img src=\"Format_mapping_relational_database_to_MongoDB.jpg\">\n",
    "<br><br><br><br><br>"
   ]
  },
  {
   "cell_type": "markdown",
   "metadata": {},
   "source": [
    "# PyMongo Basic Opeations<br><br>"
   ]
  },
  {
   "cell_type": "markdown",
   "metadata": {},
   "source": [
    "### Connecting to MongoDB"
   ]
  },
  {
   "cell_type": "code",
   "execution_count": 1,
   "metadata": {
    "ExecuteTime": {
     "end_time": "2019-03-10T05:33:37.968967Z",
     "start_time": "2019-03-10T05:33:37.930155Z"
    }
   },
   "outputs": [
    {
     "name": "stdout",
     "output_type": "stream",
     "text": [
      "Connected successfully!!!\n"
     ]
    },
    {
     "data": {
      "text/plain": [
       "MongoClient(host=['localhost:27017'], document_class=dict, tz_aware=False, connect=True)"
      ]
     },
     "execution_count": 1,
     "metadata": {},
     "output_type": "execute_result"
    }
   ],
   "source": [
    "import pymongo\n",
    "\n",
    "# Connection to Mongo DB\n",
    "conn = None\n",
    "try:\n",
    "    uri = 'localhost:27017'\n",
    "    # 'mongodb:// USER : PASSWORD @ SERVER_NAME : PORT / DATABASENAME')\n",
    "    conn=pymongo.MongoClient(uri)\n",
    "    print(\"Connected successfully!!!\")\n",
    "except pymongo.errors.ConnectionFailure as e:\n",
    "    print(\"Could not connect to MongoDB: %s\" % e)  \n",
    "conn"
   ]
  },
  {
   "cell_type": "code",
   "execution_count": 2,
   "metadata": {
    "ExecuteTime": {
     "end_time": "2019-03-10T05:33:38.047849Z",
     "start_time": "2019-03-10T05:33:37.970988Z"
    }
   },
   "outputs": [
    {
     "data": {
      "text/plain": [
       "Database(MongoClient(host=['localhost:27017'], document_class=dict, tz_aware=False, connect=True), 'stats')"
      ]
     },
     "execution_count": 2,
     "metadata": {},
     "output_type": "execute_result"
    }
   ],
   "source": [
    "conn.stats # show details about the connection"
   ]
  },
  {
   "cell_type": "markdown",
   "metadata": {},
   "source": [
    "### Database Opearations \n",
    "Mongodb creates databases and collections automatically if they don't exist already. A single instance of MongoDB can support multiple independent databases."
   ]
  },
  {
   "cell_type": "code",
   "execution_count": 3,
   "metadata": {
    "ExecuteTime": {
     "end_time": "2019-03-10T05:33:38.137644Z",
     "start_time": "2019-03-10T05:33:38.049277Z"
    }
   },
   "outputs": [
    {
     "data": {
      "text/plain": [
       "Database(MongoClient(host=['localhost:27017'], document_class=dict, tz_aware=False, connect=True), 'mydb')"
      ]
     },
     "execution_count": 3,
     "metadata": {},
     "output_type": "execute_result"
    }
   ],
   "source": [
    "# Set database name to work with or create if not available.\n",
    "db = conn.mydb\n",
    "db"
   ]
  },
  {
   "cell_type": "code",
   "execution_count": 4,
   "metadata": {
    "ExecuteTime": {
     "end_time": "2019-03-10T05:33:38.226193Z",
     "start_time": "2019-03-10T05:33:38.139966Z"
    }
   },
   "outputs": [
    {
     "data": {
      "text/plain": [
       "Database(MongoClient(host=['localhost:27017'], document_class=dict, tz_aware=False, connect=True), 'mydb-test')"
      ]
     },
     "execution_count": 4,
     "metadata": {},
     "output_type": "execute_result"
    }
   ],
   "source": [
    "# Using dictionary style access\n",
    "db1 = conn['mydb-test']\n",
    "db1"
   ]
  },
  {
   "cell_type": "markdown",
   "metadata": {},
   "source": [
    "<b>NOTE:</b> Databases with no collections or with empty collections will not show up with database_names(). Same goes when we try to list empty collections in a database."
   ]
  },
  {
   "cell_type": "code",
   "execution_count": 5,
   "metadata": {
    "ExecuteTime": {
     "end_time": "2019-03-10T05:33:38.315317Z",
     "start_time": "2019-03-10T05:33:38.228599Z"
    }
   },
   "outputs": [
    {
     "data": {
      "text/plain": [
       "['admin', 'config', 'local', 'mydb', 'people']"
      ]
     },
     "execution_count": 5,
     "metadata": {},
     "output_type": "execute_result"
    }
   ],
   "source": [
    "# Returns Databases Names\n",
    "# conn.database_names() - depricated\n",
    "conn.list_database_names()"
   ]
  },
  {
   "cell_type": "code",
   "execution_count": 6,
   "metadata": {
    "ExecuteTime": {
     "end_time": "2019-03-10T05:33:38.402905Z",
     "start_time": "2019-03-10T05:33:38.316619Z"
    }
   },
   "outputs": [],
   "source": [
    "# Drop existing Database\n",
    "conn.drop_database('mydb-test')"
   ]
  },
  {
   "cell_type": "markdown",
   "metadata": {},
   "source": [
    "### <br><br> Collection Opearations \n",
    "We can create the collection or leave to MongoDB to create it as soon as a document is generated."
   ]
  },
  {
   "cell_type": "code",
   "execution_count": 7,
   "metadata": {
    "ExecuteTime": {
     "end_time": "2019-03-10T05:33:38.777079Z",
     "start_time": "2019-03-10T05:33:38.404536Z"
    }
   },
   "outputs": [
    {
     "data": {
      "text/plain": [
       "Collection(Database(MongoClient(host=['localhost:27017'], document_class=dict, tz_aware=False, connect=True), 'mydb'), 'adressbook')"
      ]
     },
     "execution_count": 7,
     "metadata": {},
     "output_type": "execute_result"
    }
   ],
   "source": [
    "# Create a new collection. \n",
    "db.create_collection('adressbook') # Optional collection creation"
   ]
  },
  {
   "cell_type": "code",
   "execution_count": 8,
   "metadata": {
    "ExecuteTime": {
     "end_time": "2019-03-10T05:33:38.784334Z",
     "start_time": "2019-03-10T05:33:38.778538Z"
    }
   },
   "outputs": [
    {
     "data": {
      "text/plain": [
       "[{'name': 'adressbook',\n",
       "  'type': 'collection',\n",
       "  'options': {},\n",
       "  'info': {'readOnly': False,\n",
       "   'uuid': UUID('eade0218-e5fa-4504-98b2-d30bff9b0d82')},\n",
       "  'idIndex': {'v': 2,\n",
       "   'key': {'_id': 1},\n",
       "   'name': '_id_',\n",
       "   'ns': 'mydb.adressbook'}},\n",
       " {'name': 'addressbook',\n",
       "  'type': 'collection',\n",
       "  'options': {},\n",
       "  'info': {'readOnly': False,\n",
       "   'uuid': UUID('33165179-b258-4186-9cb0-f6636932cff9')},\n",
       "  'idIndex': {'v': 2,\n",
       "   'key': {'_id': 1},\n",
       "   'name': '_id_',\n",
       "   'ns': 'mydb.addressbook'}}]"
      ]
     },
     "execution_count": 8,
     "metadata": {},
     "output_type": "execute_result"
    }
   ],
   "source": [
    "# Show Collections.\n",
    "list (db.list_collections())\n",
    "# Query returns a Cursor [ ]."
   ]
  },
  {
   "cell_type": "code",
   "execution_count": 9,
   "metadata": {
    "ExecuteTime": {
     "end_time": "2019-03-10T05:33:38.861098Z",
     "start_time": "2019-03-10T05:33:38.785947Z"
    }
   },
   "outputs": [
    {
     "data": {
      "text/plain": [
       "[{'name': 'adressbook',\n",
       "  'type': 'collection',\n",
       "  'options': {},\n",
       "  'info': {'readOnly': False,\n",
       "   'uuid': UUID('eade0218-e5fa-4504-98b2-d30bff9b0d82')},\n",
       "  'idIndex': {'v': 2,\n",
       "   'key': {'_id': 1},\n",
       "   'name': '_id_',\n",
       "   'ns': 'mydb.adressbook'}},\n",
       " {'name': 'addressbook',\n",
       "  'type': 'collection',\n",
       "  'options': {},\n",
       "  'info': {'readOnly': False,\n",
       "   'uuid': UUID('33165179-b258-4186-9cb0-f6636932cff9')},\n",
       "  'idIndex': {'v': 2,\n",
       "   'key': {'_id': 1},\n",
       "   'name': '_id_',\n",
       "   'ns': 'mydb.addressbook'}}]"
      ]
     },
     "execution_count": 9,
     "metadata": {},
     "output_type": "execute_result"
    }
   ],
   "source": [
    "# Set the collection to work\n",
    "collection = db.adressbook\n",
    "collection.insert_one({'name' : 'Shubham'})     # Insert one item to create the collection\n",
    "list(db.list_collections())"
   ]
  },
  {
   "cell_type": "code",
   "execution_count": 10,
   "metadata": {
    "ExecuteTime": {
     "end_time": "2019-03-10T05:33:39.027100Z",
     "start_time": "2019-03-10T05:33:38.862941Z"
    }
   },
   "outputs": [
    {
     "data": {
      "text/plain": [
       "[{'name': 'addressbooks',\n",
       "  'type': 'collection',\n",
       "  'options': {},\n",
       "  'info': {'readOnly': False,\n",
       "   'uuid': UUID('eade0218-e5fa-4504-98b2-d30bff9b0d82')},\n",
       "  'idIndex': {'v': 2,\n",
       "   'key': {'_id': 1},\n",
       "   'name': '_id_',\n",
       "   'ns': 'mydb.addressbooks'}},\n",
       " {'name': 'addressbook',\n",
       "  'type': 'collection',\n",
       "  'options': {},\n",
       "  'info': {'readOnly': False,\n",
       "   'uuid': UUID('33165179-b258-4186-9cb0-f6636932cff9')},\n",
       "  'idIndex': {'v': 2,\n",
       "   'key': {'_id': 1},\n",
       "   'name': '_id_',\n",
       "   'ns': 'mydb.addressbook'}}]"
      ]
     },
     "execution_count": 10,
     "metadata": {},
     "output_type": "execute_result"
    }
   ],
   "source": [
    "# Rename a collections\n",
    "db.adressbook.rename('addressbooks')\n",
    "collection = db.addressbook\n",
    "list(db.list_collections())"
   ]
  },
  {
   "cell_type": "code",
   "execution_count": 11,
   "metadata": {
    "ExecuteTime": {
     "end_time": "2019-03-10T05:33:39.171199Z",
     "start_time": "2019-03-10T05:33:39.028782Z"
    }
   },
   "outputs": [
    {
     "name": "stdout",
     "output_type": "stream",
     "text": [
      "[{'name': 'addressbook', 'type': 'collection', 'options': {}, 'info': {'readOnly': False, 'uuid': UUID('33165179-b258-4186-9cb0-f6636932cff9')}, 'idIndex': {'v': 2, 'key': {'_id': 1}, 'name': '_id_', 'ns': 'mydb.addressbook'}}]\n"
     ]
    }
   ],
   "source": [
    "# Delete collection\n",
    "db.drop_collection('addressbooks')\n",
    "# empty list '[]' means that there are not collections in database\n",
    "print(list (db.list_collections()))"
   ]
  },
  {
   "cell_type": "markdown",
   "metadata": {
    "ExecuteTime": {
     "end_time": "2019-03-10T03:35:37.675259Z",
     "start_time": "2019-03-10T03:35:37.670359Z"
    }
   },
   "source": [
    "### 1. Create Read Update Delete (one document)"
   ]
  },
  {
   "cell_type": "markdown",
   "metadata": {},
   "source": [
    "#### 1.1 Create Document :  insert_one()"
   ]
  },
  {
   "cell_type": "code",
   "execution_count": 12,
   "metadata": {
    "ExecuteTime": {
     "end_time": "2019-03-10T05:33:39.225532Z",
     "start_time": "2019-03-10T05:33:39.172691Z"
    }
   },
   "outputs": [],
   "source": [
    "data = {  'name' : \"Mike Myers\" ,                                    # String \n",
    "          'age' : 55, # Integer\n",
    "          'gender' : \"Male\", # String \n",
    "          'likes_python' : False, # Boolean\n",
    "          'address': {\n",
    "              'street' : \"564 $ Ronald Reagan Blvd, Longwood\",  # String ( special character with escape \\ )\n",
    "              'number' : \"405-359-385\", # String containing a number\n",
    "              'city' :  \"New York\",  # String \n",
    "              'floor' : None,  # Null \n",
    "              'postalcode' : \"300193\",  # String containing a number\n",
    "          'favouriteFruits': ['banana','pineapple','orange'] # Array  \n",
    "\n",
    "          }        \n",
    "       }\n",
    "\n",
    "insert_result = collection.insert_one(data)"
   ]
  },
  {
   "cell_type": "code",
   "execution_count": 13,
   "metadata": {
    "ExecuteTime": {
     "end_time": "2019-03-10T05:33:39.383944Z",
     "start_time": "2019-03-10T05:33:39.227021Z"
    }
   },
   "outputs": [
    {
     "data": {
      "text/plain": [
       "True"
      ]
     },
     "execution_count": 13,
     "metadata": {},
     "output_type": "execute_result"
    }
   ],
   "source": [
    "insert_result.acknowledged    # Confirms that insert is successful"
   ]
  },
  {
   "cell_type": "code",
   "execution_count": 14,
   "metadata": {
    "ExecuteTime": {
     "end_time": "2019-03-10T05:33:39.481593Z",
     "start_time": "2019-03-10T05:33:39.385245Z"
    }
   },
   "outputs": [
    {
     "data": {
      "text/plain": [
       "ObjectId('5c84a1b3ba268b3b354dc39f')"
      ]
     },
     "execution_count": 14,
     "metadata": {},
     "output_type": "execute_result"
    }
   ],
   "source": [
    "insert_result.inserted_id     # Shows the document ID"
   ]
  },
  {
   "cell_type": "markdown",
   "metadata": {},
   "source": [
    "#### 1.2 Read document: find()"
   ]
  },
  {
   "cell_type": "code",
   "execution_count": 15,
   "metadata": {
    "ExecuteTime": {
     "end_time": "2019-03-10T05:33:39.571156Z",
     "start_time": "2019-03-10T05:33:39.483107Z"
    }
   },
   "outputs": [
    {
     "data": {
      "text/plain": [
       "[{'_id': ObjectId('5c84973bba268b39f39af59a'),\n",
       "  'name': 'Mike Myers',\n",
       "  'age': 55,\n",
       "  'gender': 'Male',\n",
       "  'likes_python': False,\n",
       "  'address': {'street': '564 $ Ronald Reagan Blvd, Longwood',\n",
       "   'number': '405-359-385',\n",
       "   'city': 'New York',\n",
       "   'floor': None,\n",
       "   'postalcode': '300193',\n",
       "   'favouriteFruits': ['banana', 'pineapple', 'orange']},\n",
       "  'favoriteColor': 'red',\n",
       "  'favoriteBook': 'Harry Potter'},\n",
       " {'_id': ObjectId('5c84a1b3ba268b3b354dc39f'),\n",
       "  'name': 'Mike Myers',\n",
       "  'age': 55,\n",
       "  'gender': 'Male',\n",
       "  'likes_python': False,\n",
       "  'address': {'street': '564 $ Ronald Reagan Blvd, Longwood',\n",
       "   'number': '405-359-385',\n",
       "   'city': 'New York',\n",
       "   'floor': None,\n",
       "   'postalcode': '300193',\n",
       "   'favouriteFruits': ['banana', 'pineapple', 'orange']}}]"
      ]
     },
     "execution_count": 15,
     "metadata": {},
     "output_type": "execute_result"
    }
   ],
   "source": [
    "list (collection.find()) # gets all data of collection"
   ]
  },
  {
   "cell_type": "code",
   "execution_count": 16,
   "metadata": {
    "ExecuteTime": {
     "end_time": "2019-03-10T05:33:39.671239Z",
     "start_time": "2019-03-10T05:33:39.572696Z"
    }
   },
   "outputs": [
    {
     "data": {
      "text/plain": [
       "[{'_id': ObjectId('5c84a1b3ba268b3b354dc39f'),\n",
       "  'name': 'Mike Myers',\n",
       "  'age': 55,\n",
       "  'gender': 'Male',\n",
       "  'likes_python': False,\n",
       "  'address': {'street': '564 $ Ronald Reagan Blvd, Longwood',\n",
       "   'number': '405-359-385',\n",
       "   'city': 'New York',\n",
       "   'floor': None,\n",
       "   'postalcode': '300193',\n",
       "   'favouriteFruits': ['banana', 'pineapple', 'orange']}}]"
      ]
     },
     "execution_count": 16,
     "metadata": {},
     "output_type": "execute_result"
    }
   ],
   "source": [
    "list( collection.find( {'_id' : insert_result.inserted_id } )) # Find the inserted document using the objectID"
   ]
  },
  {
   "cell_type": "code",
   "execution_count": 17,
   "metadata": {
    "ExecuteTime": {
     "end_time": "2019-03-10T05:33:39.771656Z",
     "start_time": "2019-03-10T05:33:39.672630Z"
    }
   },
   "outputs": [
    {
     "data": {
      "text/plain": [
       "[{'_id': ObjectId('5c84973bba268b39f39af59a'),\n",
       "  'name': 'Mike Myers',\n",
       "  'age': 55,\n",
       "  'gender': 'Male',\n",
       "  'likes_python': False,\n",
       "  'address': {'street': '564 $ Ronald Reagan Blvd, Longwood',\n",
       "   'number': '405-359-385',\n",
       "   'city': 'New York',\n",
       "   'floor': None,\n",
       "   'postalcode': '300193',\n",
       "   'favouriteFruits': ['banana', 'pineapple', 'orange']},\n",
       "  'favoriteColor': 'red',\n",
       "  'favoriteBook': 'Harry Potter'},\n",
       " {'_id': ObjectId('5c84a1b3ba268b3b354dc39f'),\n",
       "  'name': 'Mike Myers',\n",
       "  'age': 55,\n",
       "  'gender': 'Male',\n",
       "  'likes_python': False,\n",
       "  'address': {'street': '564 $ Ronald Reagan Blvd, Longwood',\n",
       "   'number': '405-359-385',\n",
       "   'city': 'New York',\n",
       "   'floor': None,\n",
       "   'postalcode': '300193',\n",
       "   'favouriteFruits': ['banana', 'pineapple', 'orange']}}]"
      ]
     },
     "execution_count": 17,
     "metadata": {},
     "output_type": "execute_result"
    }
   ],
   "source": [
    "list ( collection.find( {'name' : \"Mike Myers\" } )) # find, can use one key or more"
   ]
  },
  {
   "cell_type": "code",
   "execution_count": 18,
   "metadata": {
    "ExecuteTime": {
     "end_time": "2019-03-10T05:33:39.861608Z",
     "start_time": "2019-03-10T05:33:39.775854Z"
    }
   },
   "outputs": [
    {
     "data": {
      "text/plain": [
       "[{'_id': ObjectId('5c84973bba268b39f39af59a'),\n",
       "  'name': 'Mike Myers',\n",
       "  'age': 55,\n",
       "  'gender': 'Male',\n",
       "  'likes_python': False,\n",
       "  'address': {'street': '564 $ Ronald Reagan Blvd, Longwood',\n",
       "   'number': '405-359-385',\n",
       "   'city': 'New York',\n",
       "   'floor': None,\n",
       "   'postalcode': '300193',\n",
       "   'favouriteFruits': ['banana', 'pineapple', 'orange']},\n",
       "  'favoriteColor': 'red',\n",
       "  'favoriteBook': 'Harry Potter'},\n",
       " {'_id': ObjectId('5c84a1b3ba268b3b354dc39f'),\n",
       "  'name': 'Mike Myers',\n",
       "  'age': 55,\n",
       "  'gender': 'Male',\n",
       "  'likes_python': False,\n",
       "  'address': {'street': '564 $ Ronald Reagan Blvd, Longwood',\n",
       "   'number': '405-359-385',\n",
       "   'city': 'New York',\n",
       "   'floor': None,\n",
       "   'postalcode': '300193',\n",
       "   'favouriteFruits': ['banana', 'pineapple', 'orange']}}]"
      ]
     },
     "execution_count": 18,
     "metadata": {},
     "output_type": "execute_result"
    }
   ],
   "source": [
    "list ( collection.find( {'address.city' : \"New York\" } )) # find, can use one key or more"
   ]
  },
  {
   "cell_type": "code",
   "execution_count": 19,
   "metadata": {
    "ExecuteTime": {
     "end_time": "2019-03-10T05:33:39.939138Z",
     "start_time": "2019-03-10T05:33:39.866248Z"
    }
   },
   "outputs": [
    {
     "data": {
      "text/plain": [
       "[{'_id': ObjectId('5c84973bba268b39f39af59a'),\n",
       "  'name': 'Mike Myers',\n",
       "  'age': 55,\n",
       "  'gender': 'Male',\n",
       "  'likes_python': False,\n",
       "  'address': {'street': '564 $ Ronald Reagan Blvd, Longwood',\n",
       "   'number': '405-359-385',\n",
       "   'city': 'New York',\n",
       "   'floor': None,\n",
       "   'postalcode': '300193',\n",
       "   'favouriteFruits': ['banana', 'pineapple', 'orange']},\n",
       "  'favoriteColor': 'red',\n",
       "  'favoriteBook': 'Harry Potter'}]"
      ]
     },
     "execution_count": 19,
     "metadata": {},
     "output_type": "execute_result"
    }
   ],
   "source": [
    "list ( collection.find().limit(1)) # gets a Limited set of documents"
   ]
  },
  {
   "cell_type": "code",
   "execution_count": 20,
   "metadata": {
    "ExecuteTime": {
     "end_time": "2019-03-10T05:33:40.037863Z",
     "start_time": "2019-03-10T05:33:39.940750Z"
    }
   },
   "outputs": [
    {
     "data": {
      "text/plain": [
       "[{'_id': ObjectId('5c84a1b3ba268b3b354dc39f'),\n",
       "  'name': 'Mike Myers',\n",
       "  'age': 55,\n",
       "  'gender': 'Male',\n",
       "  'likes_python': False,\n",
       "  'address': {'street': '564 $ Ronald Reagan Blvd, Longwood',\n",
       "   'number': '405-359-385',\n",
       "   'city': 'New York',\n",
       "   'floor': None,\n",
       "   'postalcode': '300193',\n",
       "   'favouriteFruits': ['banana', 'pineapple', 'orange']}}]"
      ]
     },
     "execution_count": 20,
     "metadata": {},
     "output_type": "execute_result"
    }
   ],
   "source": [
    "list ( collection.find().skip(1)) # gets all documents skipping first"
   ]
  },
  {
   "cell_type": "markdown",
   "metadata": {},
   "source": [
    "#### 1.3 Update document: update_one()"
   ]
  },
  {
   "cell_type": "code",
   "execution_count": 21,
   "metadata": {
    "ExecuteTime": {
     "end_time": "2019-03-10T05:33:40.128164Z",
     "start_time": "2019-03-10T05:33:40.039275Z"
    }
   },
   "outputs": [
    {
     "data": {
      "text/plain": [
       "[{'_id': ObjectId('5c84973bba268b39f39af59a'),\n",
       "  'name': 'Mike Myers',\n",
       "  'age': 30,\n",
       "  'gender': 'Male',\n",
       "  'likes_python': False,\n",
       "  'address': {'street': '564 $ Ronald Reagan Blvd, Longwood',\n",
       "   'number': '405-359-385',\n",
       "   'city': 'New York',\n",
       "   'floor': None,\n",
       "   'postalcode': '300193',\n",
       "   'favouriteFruits': ['banana', 'pineapple', 'orange']},\n",
       "  'favoriteColor': 'red',\n",
       "  'favoriteBook': 'Harry Potter'},\n",
       " {'_id': ObjectId('5c84a1b3ba268b3b354dc39f'),\n",
       "  'name': 'Mike Myers',\n",
       "  'age': 55,\n",
       "  'gender': 'Male',\n",
       "  'likes_python': False,\n",
       "  'address': {'street': '564 $ Ronald Reagan Blvd, Longwood',\n",
       "   'number': '405-359-385',\n",
       "   'city': 'New York',\n",
       "   'floor': None,\n",
       "   'postalcode': '300193',\n",
       "   'favouriteFruits': ['banana', 'pineapple', 'orange']}}]"
      ]
     },
     "execution_count": 21,
     "metadata": {},
     "output_type": "execute_result"
    }
   ],
   "source": [
    "## Update an existing document\n",
    "update_result = collection.update_one( {'name' : \"Mike Myers\"}, {'$set' : { 'age' : 30 }}) \n",
    "list (collection.find( {'name' : \"Mike Myers\" }))"
   ]
  },
  {
   "cell_type": "code",
   "execution_count": 22,
   "metadata": {
    "ExecuteTime": {
     "end_time": "2019-03-10T05:33:40.215217Z",
     "start_time": "2019-03-10T05:33:40.129711Z"
    }
   },
   "outputs": [
    {
     "data": {
      "text/plain": [
       "{'n': 1, 'nModified': 1, 'ok': 1.0, 'updatedExisting': True}"
      ]
     },
     "execution_count": 22,
     "metadata": {},
     "output_type": "execute_result"
    }
   ],
   "source": [
    "update_result.raw_result"
   ]
  },
  {
   "cell_type": "code",
   "execution_count": 23,
   "metadata": {
    "ExecuteTime": {
     "end_time": "2019-03-10T05:33:40.316355Z",
     "start_time": "2019-03-10T05:33:40.216649Z"
    }
   },
   "outputs": [
    {
     "data": {
      "text/plain": [
       "[{'_id': ObjectId('5c84a1b4a32d6bf367f8eb0f'),\n",
       "  'name': 'Javi Gonzalez',\n",
       "  'age': 30}]"
      ]
     },
     "execution_count": 23,
     "metadata": {},
     "output_type": "execute_result"
    }
   ],
   "source": [
    "## Insert a new document with update, will avoid to crash during insert if document already exist\n",
    "insert_result = collection.update_one( {'name' : 'Javi Gonzalez'}, {'$set' : { 'age' : 30 }}, upsert= True )\n",
    "list(collection.find( {'name' : 'Javi Gonzalez'} ))"
   ]
  },
  {
   "cell_type": "code",
   "execution_count": 24,
   "metadata": {
    "ExecuteTime": {
     "end_time": "2019-03-10T05:33:40.437127Z",
     "start_time": "2019-03-10T05:33:40.317843Z"
    }
   },
   "outputs": [
    {
     "data": {
      "text/plain": [
       "True"
      ]
     },
     "execution_count": 24,
     "metadata": {},
     "output_type": "execute_result"
    }
   ],
   "source": [
    "update_result.acknowledged"
   ]
  },
  {
   "cell_type": "markdown",
   "metadata": {},
   "source": [
    "#### 1.4 Delete document: delete_one()"
   ]
  },
  {
   "cell_type": "code",
   "execution_count": 25,
   "metadata": {
    "ExecuteTime": {
     "end_time": "2019-03-10T05:33:40.525630Z",
     "start_time": "2019-03-10T05:33:40.438664Z"
    }
   },
   "outputs": [],
   "source": [
    "delete = collection.delete_one({'name': 'Javi Gonzalez'})"
   ]
  },
  {
   "cell_type": "code",
   "execution_count": 26,
   "metadata": {
    "ExecuteTime": {
     "end_time": "2019-03-10T05:33:40.659374Z",
     "start_time": "2019-03-10T05:33:40.527121Z"
    }
   },
   "outputs": [
    {
     "data": {
      "text/plain": [
       "1"
      ]
     },
     "execution_count": 26,
     "metadata": {},
     "output_type": "execute_result"
    }
   ],
   "source": [
    "delete.deleted_count   # informs that 1 document has been deleted"
   ]
  },
  {
   "cell_type": "code",
   "execution_count": 27,
   "metadata": {
    "ExecuteTime": {
     "end_time": "2019-03-10T05:33:40.748792Z",
     "start_time": "2019-03-10T05:33:40.660637Z"
    }
   },
   "outputs": [
    {
     "data": {
      "text/plain": [
       "<pymongo.results.DeleteResult at 0x7f94f04911c8>"
      ]
     },
     "execution_count": 27,
     "metadata": {},
     "output_type": "execute_result"
    }
   ],
   "source": [
    "collection.delete_one({'name': \"Mike Myers\"})"
   ]
  },
  {
   "cell_type": "markdown",
   "metadata": {},
   "source": [
    "### 2. Create Read Update Delete (many document)\n",
    "\n",
    "#### 2.1 Create documents: insert_many()"
   ]
  },
  {
   "cell_type": "code",
   "execution_count": 28,
   "metadata": {
    "ExecuteTime": {
     "end_time": "2019-03-10T05:33:40.909551Z",
     "start_time": "2019-03-10T05:33:40.750236Z"
    }
   },
   "outputs": [
    {
     "data": {
      "text/plain": [
       "<pymongo.results.InsertManyResult at 0x7f94f04ad2c8>"
      ]
     },
     "execution_count": 28,
     "metadata": {},
     "output_type": "execute_result"
    }
   ],
   "source": [
    "import datetime\n",
    "collection.insert_many([ # <--- start a list with [\n",
    "##  Insert Document 1\n",
    "  {\n",
    "  'name': 'Jordi Gonzalez',\n",
    "  'age': 25,\n",
    "  'likes_python': True,\n",
    "  'registered': datetime.datetime(2018, 2, 11, 4, 22, 39),\n",
    "  'address': {\n",
    "      'street': 'Torrent de l\\'Olla',\n",
    "      'number': 70,\n",
    "      'floor': None,\n",
    "      'city': 'Barcelona',\n",
    "      'postalCode': '08012'\n",
    "             },\n",
    "  'height':  1.72,\n",
    "  'favouriteFruits': ['banana','pineapple','orange']\n",
    "  },\n",
    "\n",
    "##  Insert Document 2\n",
    "  {\n",
    "  'name': 'Maria Smith',\n",
    "  'age': 30,\n",
    "  'likes_python': True,\n",
    "  'registered': datetime.datetime(2019, 2, 23, 7, 34, 12),\n",
    "  'address': {\n",
    "      'street': 'Numancia',\n",
    "       ##  missing number\n",
    "       ##  missing floor\n",
    "      'city': 'Barcelona',\n",
    "      'postalCode': '08029'\n",
    "             },\n",
    "  'height':  1.56,\n",
    "  'favouriteFruits': ['lemon','pineapple']\n",
    "  }\n",
    "  ]) # <--- finalize the list ]"
   ]
  },
  {
   "cell_type": "markdown",
   "metadata": {},
   "source": [
    "#### 2.2 Read many documents: find()"
   ]
  },
  {
   "cell_type": "code",
   "execution_count": 29,
   "metadata": {
    "ExecuteTime": {
     "end_time": "2019-03-10T05:33:41.049463Z",
     "start_time": "2019-03-10T05:33:40.911020Z"
    }
   },
   "outputs": [
    {
     "data": {
      "text/plain": [
       "[{'_id': ObjectId('5c84a1b4ba268b3b354dc3a0'),\n",
       "  'name': 'Jordi Gonzalez',\n",
       "  'age': 25,\n",
       "  'likes_python': True,\n",
       "  'registered': datetime.datetime(2018, 2, 11, 4, 22, 39),\n",
       "  'address': {'street': \"Torrent de l'Olla\",\n",
       "   'number': 70,\n",
       "   'floor': None,\n",
       "   'city': 'Barcelona',\n",
       "   'postalCode': '08012'},\n",
       "  'height': 1.72,\n",
       "  'favouriteFruits': ['banana', 'pineapple', 'orange']},\n",
       " {'_id': ObjectId('5c84a1b4ba268b3b354dc3a1'),\n",
       "  'name': 'Maria Smith',\n",
       "  'age': 30,\n",
       "  'likes_python': True,\n",
       "  'registered': datetime.datetime(2019, 2, 23, 7, 34, 12),\n",
       "  'address': {'street': 'Numancia',\n",
       "   'city': 'Barcelona',\n",
       "   'postalCode': '08029'},\n",
       "  'height': 1.56,\n",
       "  'favouriteFruits': ['lemon', 'pineapple']}]"
      ]
     },
     "execution_count": 29,
     "metadata": {},
     "output_type": "execute_result"
    }
   ],
   "source": [
    "list(collection.find({'$or': [{'name': 'Jordi Gonzalez'},{'name': 'Maria Smith'} ]}))\n",
    "# $or(aggregation) - Evaluates one or more expressions and returns true if any of the expressions are true.\n",
    "# Otherwise, $or returns false."
   ]
  },
  {
   "cell_type": "markdown",
   "metadata": {},
   "source": [
    "#### 2.3 Update many documents: update_many()"
   ]
  },
  {
   "cell_type": "code",
   "execution_count": 30,
   "metadata": {
    "ExecuteTime": {
     "end_time": "2019-03-10T05:33:41.138916Z",
     "start_time": "2019-03-10T05:33:41.051371Z"
    }
   },
   "outputs": [
    {
     "data": {
      "text/plain": [
       "[{'_id': ObjectId('5c84a1b3ba268b3b354dc39f'),\n",
       "  'name': 'Mike Myers',\n",
       "  'age': 55,\n",
       "  'gender': 'Male',\n",
       "  'likes_python': False,\n",
       "  'address': {'street': '564 $ Ronald Reagan Blvd, Longwood',\n",
       "   'number': '405-359-385',\n",
       "   'city': 'New York',\n",
       "   'floor': None,\n",
       "   'postalcode': '300193',\n",
       "   'favouriteFruits': ['banana', 'pineapple', 'orange']}},\n",
       " {'_id': ObjectId('5c84a1b4ba268b3b354dc3a0'),\n",
       "  'name': 'Jordi Gonzalez',\n",
       "  'age': 25,\n",
       "  'likes_python': True,\n",
       "  'registered': datetime.datetime(2018, 2, 11, 4, 22, 39),\n",
       "  'address': {'street': \"Torrent de l'Olla\",\n",
       "   'number': 70,\n",
       "   'floor': None,\n",
       "   'city': 'Barcelona',\n",
       "   'postalCode': '08012'},\n",
       "  'height': 1.72,\n",
       "  'favouriteFruits': ['banana', 'pineapple', 'orange']},\n",
       " {'_id': ObjectId('5c84a1b4ba268b3b354dc3a1'),\n",
       "  'name': 'Maria Smith',\n",
       "  'age': 30,\n",
       "  'likes_python': True,\n",
       "  'registered': datetime.datetime(2019, 2, 23, 7, 34, 12),\n",
       "  'address': {'street': 'Numancia',\n",
       "   'city': 'Barcelona',\n",
       "   'postalCode': '08029'},\n",
       "  'height': 1.56,\n",
       "  'favouriteFruits': ['lemon', 'pineapple']}]"
      ]
     },
     "execution_count": 30,
     "metadata": {},
     "output_type": "execute_result"
    }
   ],
   "source": [
    "collection.update_many( {'isActive': True }, {'$set' : { 'isActive': False }} )\n",
    "list (collection.find( )) # List all documents"
   ]
  },
  {
   "cell_type": "markdown",
   "metadata": {},
   "source": [
    "#### 2.4 Delete many documents: delete_many()"
   ]
  },
  {
   "cell_type": "code",
   "execution_count": 31,
   "metadata": {
    "ExecuteTime": {
     "end_time": "2019-03-10T05:33:41.227145Z",
     "start_time": "2019-03-10T05:33:41.140643Z"
    }
   },
   "outputs": [
    {
     "data": {
      "text/plain": [
       "[{'_id': ObjectId('5c84a1b3ba268b3b354dc39f'),\n",
       "  'name': 'Mike Myers',\n",
       "  'age': 55,\n",
       "  'gender': 'Male',\n",
       "  'likes_python': False,\n",
       "  'address': {'street': '564 $ Ronald Reagan Blvd, Longwood',\n",
       "   'number': '405-359-385',\n",
       "   'city': 'New York',\n",
       "   'floor': None,\n",
       "   'postalcode': '300193',\n",
       "   'favouriteFruits': ['banana', 'pineapple', 'orange']}}]"
      ]
     },
     "execution_count": 31,
     "metadata": {},
     "output_type": "execute_result"
    }
   ],
   "source": [
    "delete = collection.delete_many({'likes_python': True}) # deletes as many documents as the filter\n",
    "list (collection.find()) # List all documents"
   ]
  },
  {
   "cell_type": "code",
   "execution_count": 32,
   "metadata": {
    "ExecuteTime": {
     "end_time": "2019-03-10T05:33:41.314965Z",
     "start_time": "2019-03-10T05:33:41.228305Z"
    }
   },
   "outputs": [
    {
     "data": {
      "text/plain": [
       "2"
      ]
     },
     "execution_count": 32,
     "metadata": {},
     "output_type": "execute_result"
    }
   ],
   "source": [
    "delete.deleted_count   # items deleted"
   ]
  },
  {
   "cell_type": "markdown",
   "metadata": {},
   "source": [
    "## Closing a Connection"
   ]
  },
  {
   "cell_type": "code",
   "execution_count": 33,
   "metadata": {
    "ExecuteTime": {
     "end_time": "2019-03-10T05:33:41.425738Z",
     "start_time": "2019-03-10T05:33:41.316402Z"
    }
   },
   "outputs": [],
   "source": [
    "try:\n",
    "    conn.close()\n",
    "except Exception as e:\n",
    "    print(e) "
   ]
  },
  {
   "cell_type": "markdown",
   "metadata": {},
   "source": [
    "## <br><br><br> Importing DataSet directly into MongoDB"
   ]
  },
  {
   "cell_type": "code",
   "execution_count": 34,
   "metadata": {
    "ExecuteTime": {
     "end_time": "2019-03-10T05:33:41.515189Z",
     "start_time": "2019-03-10T05:33:41.427152Z"
    }
   },
   "outputs": [],
   "source": [
    "from pymongo import MongoClient \n",
    "uri = 'localhost:27017'\n",
    "client = MongoClient( uri )"
   ]
  },
  {
   "cell_type": "code",
   "execution_count": 35,
   "metadata": {
    "ExecuteTime": {
     "end_time": "2019-03-10T05:33:41.711930Z",
     "start_time": "2019-03-10T05:33:41.516919Z"
    }
   },
   "outputs": [],
   "source": [
    "client.list_database_names() # From previous module, we will have already a database called 'people'\n",
    "client.drop_database('people') # We delete previous module data"
   ]
  },
  {
   "cell_type": "code",
   "execution_count": 36,
   "metadata": {
    "ExecuteTime": {
     "end_time": "2019-03-10T05:33:41.759814Z",
     "start_time": "2019-03-10T05:33:41.713447Z"
    }
   },
   "outputs": [
    {
     "data": {
      "text/plain": [
       "['admin', 'config', 'local', 'mydb']"
      ]
     },
     "execution_count": 36,
     "metadata": {},
     "output_type": "execute_result"
    }
   ],
   "source": [
    "client.list_database_names()"
   ]
  },
  {
   "cell_type": "code",
   "execution_count": 37,
   "metadata": {
    "ExecuteTime": {
     "end_time": "2019-03-10T05:33:42.247584Z",
     "start_time": "2019-03-10T05:33:41.761295Z"
    }
   },
   "outputs": [
    {
     "name": "stdout",
     "output_type": "stream",
     "text": [
      "2019-03-10T11:03:41.856+0530\tconnected to: localhost\n",
      "2019-03-10T11:03:42.144+0530\timported 1000 documents\n"
     ]
    }
   ],
   "source": [
    "# sudo apt install mongo-tools - use to install mongo tools - mongoimport, etc\n",
    "!mongoimport --jsonArray --db people --collection addressbook ./contacts.json"
   ]
  },
  {
   "cell_type": "code",
   "execution_count": 38,
   "metadata": {
    "ExecuteTime": {
     "end_time": "2019-03-10T05:33:42.257707Z",
     "start_time": "2019-03-10T05:33:42.250510Z"
    }
   },
   "outputs": [
    {
     "data": {
      "text/plain": [
       "['admin', 'config', 'local', 'mydb', 'people']"
      ]
     },
     "execution_count": 38,
     "metadata": {},
     "output_type": "execute_result"
    }
   ],
   "source": [
    "client.list_database_names()"
   ]
  },
  {
   "cell_type": "markdown",
   "metadata": {
    "ExecuteTime": {
     "end_time": "2019-03-10T04:27:36.772510Z",
     "start_time": "2019-03-10T04:27:36.661487Z"
    }
   },
   "source": [
    "### 2. Database overview"
   ]
  },
  {
   "cell_type": "code",
   "execution_count": 39,
   "metadata": {
    "ExecuteTime": {
     "end_time": "2019-03-10T05:33:42.388515Z",
     "start_time": "2019-03-10T05:33:42.259005Z"
    }
   },
   "outputs": [
    {
     "data": {
      "text/plain": [
       "['addressbook']"
      ]
     },
     "execution_count": 39,
     "metadata": {},
     "output_type": "execute_result"
    }
   ],
   "source": [
    "db = client.people  # Set the database to work on\n",
    "db.list_collection_names() # List the collections available"
   ]
  },
  {
   "cell_type": "code",
   "execution_count": 40,
   "metadata": {
    "ExecuteTime": {
     "end_time": "2019-03-10T05:33:42.480981Z",
     "start_time": "2019-03-10T05:33:42.390430Z"
    }
   },
   "outputs": [],
   "source": [
    "collection = db['addressbook'] # Set the collection to work on"
   ]
  },
  {
   "cell_type": "code",
   "execution_count": 41,
   "metadata": {
    "ExecuteTime": {
     "end_time": "2019-03-10T05:33:42.572623Z",
     "start_time": "2019-03-10T05:33:42.482628Z"
    }
   },
   "outputs": [
    {
     "name": "stdout",
     "output_type": "stream",
     "text": [
      "Number of documents : 1000\n",
      "Attributes names : [{'_id': ObjectId('5c84a1b5a32d6bf367f8eb24'), 'index': 3, 'name': 'Karyn Rhodes', 'isActive': True, 'registered': datetime.datetime(2014, 3, 11, 3, 2, 33), 'age': 39, 'gender': 'female', 'eyeColor': 'green', 'favoriteFruit': 'strawberry', 'company': {'title': 'RODEMCO', 'email': 'karynrhodes@rodemco.com', 'phone': '+1 (801) 505-3760', 'location': {'country': 'USA', 'address': '521 Seigel Street'}}, 'tags': ['cillum', 'exercitation', 'excepteur']}]\n"
     ]
    }
   ],
   "source": [
    "## Dataset content summary\n",
    "num_documents = collection.count_documents({'_id' : {'$exists' : 1}})\n",
    "attributes = list (collection.find().limit(1))\n",
    "\n",
    "print ('Number of documents : %d' % num_documents)\n",
    "print ('Attributes names : %s' % attributes)"
   ]
  },
  {
   "cell_type": "markdown",
   "metadata": {},
   "source": [
    "### <br><br><br> 3.Adding and deleting attributes"
   ]
  },
  {
   "cell_type": "code",
   "execution_count": 42,
   "metadata": {
    "ExecuteTime": {
     "end_time": "2019-03-10T05:33:42.678712Z",
     "start_time": "2019-03-10T05:33:42.574631Z"
    }
   },
   "outputs": [
    {
     "data": {
      "text/plain": [
       "[{'_id': ObjectId('5c84a1b5a32d6bf367f8eb2e'),\n",
       "  'name': 'Wendy Sampson',\n",
       "  'age': 20,\n",
       "  'favoriteColor': 'red',\n",
       "  'favoriteBook': 'Harry Potter'},\n",
       " {'_id': ObjectId('5c84a1b5a32d6bf367f8eb31'),\n",
       "  'name': 'Aurelia Gonzales',\n",
       "  'age': 20,\n",
       "  'favoriteColor': 'red',\n",
       "  'favoriteBook': 'Harry Potter'},\n",
       " {'_id': ObjectId('5c84a1b5a32d6bf367f8eb32'),\n",
       "  'name': 'Grace Larson',\n",
       "  'age': 20,\n",
       "  'favoriteColor': 'red',\n",
       "  'favoriteBook': 'Harry Potter'}]"
      ]
     },
     "execution_count": 42,
     "metadata": {},
     "output_type": "execute_result"
    }
   ],
   "source": [
    "# Adding Attributes\n",
    "collection.update_many( {\"age\" :{ \"$gte\" :0 }}, {\"$set\" : { \"favoriteColor\" : \"red\" }})\n",
    "collection.update_many( {\"age\" :{ \"$nin\" : [\"\"] }}, {\"$set\" : { \"favoriteBook\" : \"Harry Potter\" }})\n",
    "list(collection.find({\"age\" : 20} , {\"favoriteColor\",\"favoriteBook\", \"name\",\"age\"}).limit(3))"
   ]
  },
  {
   "cell_type": "code",
   "execution_count": 43,
   "metadata": {
    "ExecuteTime": {
     "end_time": "2019-03-10T05:33:42.814005Z",
     "start_time": "2019-03-10T05:33:42.680744Z"
    }
   },
   "outputs": [
    {
     "data": {
      "text/plain": [
       "[{'_id': ObjectId('5c84a1b5a32d6bf367f8eb2e'),\n",
       "  'name': 'Wendy Sampson',\n",
       "  'age': 20},\n",
       " {'_id': ObjectId('5c84a1b5a32d6bf367f8eb31'),\n",
       "  'name': 'Aurelia Gonzales',\n",
       "  'age': 20},\n",
       " {'_id': ObjectId('5c84a1b5a32d6bf367f8eb32'),\n",
       "  'name': 'Grace Larson',\n",
       "  'age': 20}]"
      ]
     },
     "execution_count": 43,
     "metadata": {},
     "output_type": "execute_result"
    }
   ],
   "source": [
    "# Deleting Attributes\n",
    "collection.update_many( {\"age\" :{ \"$gte\" :0 }}, {\"$unset\" :{ \"favoriteColor\" :1 , \"favoriteBook\" :1}})\n",
    "list(collection.find({\"age\" : 20} , {\"favoriteColor\",\"favoriteBook\", \"name\",\"age\"}).limit(3))"
   ]
  },
  {
   "cell_type": "markdown",
   "metadata": {},
   "source": [
    "### 4. Listing Attributes Name "
   ]
  },
  {
   "cell_type": "code",
   "execution_count": 44,
   "metadata": {
    "ExecuteTime": {
     "end_time": "2019-03-10T05:33:42.982330Z",
     "start_time": "2019-03-10T05:33:42.816105Z"
    }
   },
   "outputs": [
    {
     "name": "stdout",
     "output_type": "stream",
     "text": [
      "['_id', 'index', 'name', 'isActive', 'registered', 'age', 'gender', 'eyeColor', 'favoriteFruit', 'company', 'tags']\n"
     ]
    }
   ],
   "source": [
    "print(list(collection.find({\"age\" : 38, \"gender\" : 'female'}).limit(1)[1]))"
   ]
  },
  {
   "cell_type": "markdown",
   "metadata": {},
   "source": [
    "### <br><br> 5. Advance Search Opeations: \n",
    "\n",
    "#### 5.1 Find document by id"
   ]
  },
  {
   "cell_type": "code",
   "execution_count": 45,
   "metadata": {
    "ExecuteTime": {
     "end_time": "2019-03-10T05:33:43.072031Z",
     "start_time": "2019-03-10T05:33:42.983886Z"
    }
   },
   "outputs": [
    {
     "data": {
      "text/plain": [
       "'5c84a1b5a32d6bf367f8eb24'"
      ]
     },
     "execution_count": 45,
     "metadata": {},
     "output_type": "execute_result"
    }
   ],
   "source": [
    "# Get the id of existing document\n",
    "documents = collection.find( {\"_id\": {\"$exists\": True}} , ['name','age']).limit(1)\n",
    "itemId = None\n",
    "\n",
    "for item in documents:\n",
    "    itemId = str( item['_id'] )\n",
    "\n",
    "itemId"
   ]
  },
  {
   "cell_type": "code",
   "execution_count": 46,
   "metadata": {
    "ExecuteTime": {
     "end_time": "2019-03-10T05:33:43.160777Z",
     "start_time": "2019-03-10T05:33:43.073507Z"
    }
   },
   "outputs": [
    {
     "data": {
      "text/plain": [
       "[{'_id': ObjectId('5c84a1b5a32d6bf367f8eb24'),\n",
       "  'name': 'Karyn Rhodes',\n",
       "  'age': 39,\n",
       "  'favoriteFruit': 'strawberry',\n",
       "  'company': {'email': 'karynrhodes@rodemco.com'}}]"
      ]
     },
     "execution_count": 46,
     "metadata": {},
     "output_type": "execute_result"
    }
   ],
   "source": [
    "from bson.objectid import ObjectId\n",
    "list(collection.find({\"_id\": ObjectId( itemId )} , ['name','age','favoriteFruit','company.email']))"
   ]
  },
  {
   "cell_type": "markdown",
   "metadata": {},
   "source": [
    "#### 5.2 Filter documents by field"
   ]
  },
  {
   "cell_type": "code",
   "execution_count": 47,
   "metadata": {
    "ExecuteTime": {
     "end_time": "2019-03-10T05:33:43.294103Z",
     "start_time": "2019-03-10T05:33:43.162649Z"
    }
   },
   "outputs": [
    {
     "data": {
      "text/plain": [
       "[{'_id': ObjectId('5c84a1b5a32d6bf367f8eb24'),\n",
       "  'name': 'Karyn Rhodes',\n",
       "  'isActive': True,\n",
       "  'age': 39,\n",
       "  'company': {'email': 'karynrhodes@rodemco.com'}}]"
      ]
     },
     "execution_count": 47,
     "metadata": {},
     "output_type": "execute_result"
    }
   ],
   "source": [
    "filters = {\"isActive\": True}\n",
    "fields = ['name','age', 'isActive','company.email']\n",
    "\n",
    "list(collection.find( filters , fields ).limit(1))"
   ]
  },
  {
   "cell_type": "code",
   "execution_count": 48,
   "metadata": {
    "ExecuteTime": {
     "end_time": "2019-03-10T05:33:43.383109Z",
     "start_time": "2019-03-10T05:33:43.295641Z"
    }
   },
   "outputs": [
    {
     "name": "stdout",
     "output_type": "stream",
     "text": [
      "516\n"
     ]
    }
   ],
   "source": [
    "print(collection.count_documents(filters))"
   ]
  },
  {
   "cell_type": "code",
   "execution_count": 49,
   "metadata": {
    "ExecuteTime": {
     "end_time": "2019-03-10T05:33:43.473892Z",
     "start_time": "2019-03-10T05:33:43.384687Z"
    }
   },
   "outputs": [
    {
     "name": "stdout",
     "output_type": "stream",
     "text": [
      "36\n",
      "36\n"
     ]
    }
   ],
   "source": [
    "filters = {\"$or\": [{\"age\" : 28}, {\"age\" : 29}] , \"gender\" : 'female'}\n",
    "\n",
    "print(collection.count_documents (filters) ) # count in Mongo the found documents \n",
    "print(len (list (collection.find(filters))) ) # count in Python the found documents"
   ]
  },
  {
   "cell_type": "markdown",
   "metadata": {},
   "source": [
    "#### 5.3 Find by REGEX"
   ]
  },
  {
   "cell_type": "code",
   "execution_count": 50,
   "metadata": {
    "ExecuteTime": {
     "end_time": "2019-03-10T05:33:43.563403Z",
     "start_time": "2019-03-10T05:33:43.475234Z"
    }
   },
   "outputs": [
    {
     "data": {
      "text/plain": [
       "[{'name': 'Sharon Grimes', 'isActive': True, 'age': 28},\n",
       " {'name': 'Sheila Lynch', 'isActive': True, 'age': 31},\n",
       " {'name': 'Sheri Jensen', 'isActive': False, 'age': 33},\n",
       " {'name': 'Shari Henderson', 'isActive': True, 'age': 22},\n",
       " {'name': 'Shepherd Haynes', 'isActive': False, 'age': 38},\n",
       " {'name': 'Shelly Wilson', 'isActive': True, 'age': 39},\n",
       " {'name': 'Sheena Spence', 'isActive': False, 'age': 28},\n",
       " {'name': 'Sharp Walker', 'isActive': False, 'age': 38},\n",
       " {'name': 'Shelley Cherry', 'isActive': True, 'age': 36},\n",
       " {'name': 'Sheryl Hogan', 'isActive': False, 'age': 39},\n",
       " {'name': 'Shirley Blankenship', 'isActive': True, 'age': 21},\n",
       " {'name': 'Shannon Burke', 'isActive': True, 'age': 33},\n",
       " {'name': 'Sherman Gutierrez', 'isActive': False, 'age': 36},\n",
       " {'name': 'Shana Fry', 'isActive': False, 'age': 39},\n",
       " {'name': 'Shaffer Hopkins', 'isActive': True, 'age': 38},\n",
       " {'name': 'Sherri Shepherd', 'isActive': True, 'age': 30}]"
      ]
     },
     "execution_count": 50,
     "metadata": {},
     "output_type": "execute_result"
    }
   ],
   "source": [
    "import re\n",
    "regex = re.compile('^Sh', re.IGNORECASE)\n",
    "\n",
    "filters = { 'name' : regex }\n",
    "fields = { '_id' : 0, 'name' : 1, 'isActive' : 1, 'age' : 1 }     #  Hide _id in reply  \n",
    "\n",
    "list ( collection.find( filters , fields ) )"
   ]
  },
  {
   "cell_type": "markdown",
   "metadata": {},
   "source": [
    "#### 5.4 Sorting Queries in Ascending or Descending Order"
   ]
  },
  {
   "cell_type": "code",
   "execution_count": 51,
   "metadata": {
    "ExecuteTime": {
     "end_time": "2019-03-10T05:33:43.679416Z",
     "start_time": "2019-03-10T05:33:43.564760Z"
    }
   },
   "outputs": [
    {
     "data": {
      "text/plain": [
       "[{'name': 'Shirley Blankenship', 'isActive': True, 'age': 21},\n",
       " {'name': 'Shari Henderson', 'isActive': True, 'age': 22},\n",
       " {'name': 'Sharon Grimes', 'isActive': True, 'age': 28},\n",
       " {'name': 'Sheena Spence', 'isActive': False, 'age': 28},\n",
       " {'name': 'Sherri Shepherd', 'isActive': True, 'age': 30},\n",
       " {'name': 'Sheila Lynch', 'isActive': True, 'age': 31},\n",
       " {'name': 'Sheri Jensen', 'isActive': False, 'age': 33},\n",
       " {'name': 'Shannon Burke', 'isActive': True, 'age': 33},\n",
       " {'name': 'Shelley Cherry', 'isActive': True, 'age': 36},\n",
       " {'name': 'Sherman Gutierrez', 'isActive': False, 'age': 36},\n",
       " {'name': 'Shepherd Haynes', 'isActive': False, 'age': 38},\n",
       " {'name': 'Sharp Walker', 'isActive': False, 'age': 38},\n",
       " {'name': 'Shaffer Hopkins', 'isActive': True, 'age': 38},\n",
       " {'name': 'Shelly Wilson', 'isActive': True, 'age': 39},\n",
       " {'name': 'Sheryl Hogan', 'isActive': False, 'age': 39},\n",
       " {'name': 'Shana Fry', 'isActive': False, 'age': 39}]"
      ]
     },
     "execution_count": 51,
     "metadata": {},
     "output_type": "execute_result"
    }
   ],
   "source": [
    "# Ascending\n",
    "list ( collection.find( filters , fields ).sort('age', pymongo.ASCENDING) )"
   ]
  },
  {
   "cell_type": "code",
   "execution_count": 52,
   "metadata": {
    "ExecuteTime": {
     "end_time": "2019-03-10T05:33:43.762039Z",
     "start_time": "2019-03-10T05:33:43.680864Z"
    }
   },
   "outputs": [
    {
     "data": {
      "text/plain": [
       "[{'name': 'Shelly Wilson', 'isActive': True, 'age': 39},\n",
       " {'name': 'Sheryl Hogan', 'isActive': False, 'age': 39},\n",
       " {'name': 'Shana Fry', 'isActive': False, 'age': 39},\n",
       " {'name': 'Shepherd Haynes', 'isActive': False, 'age': 38},\n",
       " {'name': 'Sharp Walker', 'isActive': False, 'age': 38},\n",
       " {'name': 'Shaffer Hopkins', 'isActive': True, 'age': 38},\n",
       " {'name': 'Shelley Cherry', 'isActive': True, 'age': 36},\n",
       " {'name': 'Sherman Gutierrez', 'isActive': False, 'age': 36},\n",
       " {'name': 'Sheri Jensen', 'isActive': False, 'age': 33},\n",
       " {'name': 'Shannon Burke', 'isActive': True, 'age': 33},\n",
       " {'name': 'Sheila Lynch', 'isActive': True, 'age': 31},\n",
       " {'name': 'Sherri Shepherd', 'isActive': True, 'age': 30},\n",
       " {'name': 'Sharon Grimes', 'isActive': True, 'age': 28},\n",
       " {'name': 'Sheena Spence', 'isActive': False, 'age': 28},\n",
       " {'name': 'Shari Henderson', 'isActive': True, 'age': 22},\n",
       " {'name': 'Shirley Blankenship', 'isActive': True, 'age': 21}]"
      ]
     },
     "execution_count": 52,
     "metadata": {},
     "output_type": "execute_result"
    }
   ],
   "source": [
    "# Descending \n",
    "list ( collection.find( filters , fields ).sort('age', pymongo.DESCENDING) )"
   ]
  },
  {
   "cell_type": "markdown",
   "metadata": {},
   "source": [
    "## <br><br><br>  Important Operators : "
   ]
  },
  {
   "cell_type": "markdown",
   "metadata": {},
   "source": [
    "#### 1. Count"
   ]
  },
  {
   "cell_type": "code",
   "execution_count": 53,
   "metadata": {
    "ExecuteTime": {
     "end_time": "2019-03-10T05:33:43.838497Z",
     "start_time": "2019-03-10T05:33:43.763403Z"
    }
   },
   "outputs": [
    {
     "data": {
      "text/plain": [
       "49"
      ]
     },
     "execution_count": 53,
     "metadata": {},
     "output_type": "execute_result"
    }
   ],
   "source": [
    "collection.count_documents({\"age\": 38})"
   ]
  },
  {
   "cell_type": "markdown",
   "metadata": {},
   "source": [
    "#### 2. Maximum and Minimum "
   ]
  },
  {
   "cell_type": "code",
   "execution_count": 54,
   "metadata": {
    "ExecuteTime": {
     "end_time": "2019-03-10T05:33:43.918682Z",
     "start_time": "2019-03-10T05:33:43.839921Z"
    }
   },
   "outputs": [
    {
     "name": "stdout",
     "output_type": "stream",
     "text": [
      "[{'age': 40}]\n"
     ]
    },
    {
     "data": {
      "text/plain": [
       "40"
      ]
     },
     "execution_count": 54,
     "metadata": {},
     "output_type": "execute_result"
    }
   ],
   "source": [
    "# Maximum\n",
    "print(list(collection.find({},{\"_id\": 0, \"age\": 1}).sort('age', pymongo.DESCENDING).limit(1)))\n",
    "max( collection.distinct( \"age\" ))"
   ]
  },
  {
   "cell_type": "code",
   "execution_count": 55,
   "metadata": {
    "ExecuteTime": {
     "end_time": "2019-03-10T05:33:43.996103Z",
     "start_time": "2019-03-10T05:33:43.919956Z"
    }
   },
   "outputs": [
    {
     "name": "stdout",
     "output_type": "stream",
     "text": [
      "[{'age': 20}]\n"
     ]
    },
    {
     "data": {
      "text/plain": [
       "20"
      ]
     },
     "execution_count": 55,
     "metadata": {},
     "output_type": "execute_result"
    }
   ],
   "source": [
    "# Minimum\n",
    "print(list( collection.find({},{\"_id\": 0, \"age\": 1}).sort('age', pymongo.ASCENDING).limit(1)))\n",
    "min( collection.distinct( \"age\" ))"
   ]
  },
  {
   "cell_type": "code",
   "execution_count": 56,
   "metadata": {
    "ExecuteTime": {
     "end_time": "2019-03-10T05:33:44.072805Z",
     "start_time": "2019-03-10T05:33:43.997577Z"
    }
   },
   "outputs": [
    {
     "name": "stdout",
     "output_type": "stream",
     "text": [
      "Male -  Min age: 20 and Max age: 40\n",
      "Female -  Min age: 20 and Max age: 40\n"
     ]
    }
   ],
   "source": [
    "agemale   = collection.find({\"gender\" : 'male'}).distinct( \"age\" )\n",
    "agefemale = collection.find({\"gender\" : 'female'}).distinct( \"age\")\n",
    "\n",
    "print ('Male -  Min age: ' + str(min(agemale)) + ' and Max age: ' + str(max(agemale)))\n",
    "print ('Female -  Min age: ' + str(min(agefemale)) + ' and Max age: ' + str(max(agefemale)))"
   ]
  },
  {
   "cell_type": "markdown",
   "metadata": {},
   "source": [
    "#### 3. Inclusion, exclusion operators IN and NIN"
   ]
  },
  {
   "cell_type": "code",
   "execution_count": 57,
   "metadata": {
    "ExecuteTime": {
     "end_time": "2019-03-10T05:33:44.149700Z",
     "start_time": "2019-03-10T05:33:44.074509Z"
    }
   },
   "outputs": [
    {
     "name": "stdout",
     "output_type": "stream",
     "text": [
      "2\n",
      "998\n"
     ]
    }
   ],
   "source": [
    "print( collection.count_documents( \n",
    "    { \"name\" : { \"$in\": [ \"Kimberley Chase\", \"Kinney Wynn\" ] }}\n",
    "))    # includes the names in count\n",
    "\n",
    "print( collection.count_documents( \n",
    "    { \"name\" : { \"$nin\": [ \"Kimberley Chase\", \"Kinney Wynn\" ] }}\n",
    "))   # excludes the names in count"
   ]
  },
  {
   "cell_type": "code",
   "execution_count": 58,
   "metadata": {
    "ExecuteTime": {
     "end_time": "2019-03-10T05:33:44.227417Z",
     "start_time": "2019-03-10T05:33:44.151106Z"
    }
   },
   "outputs": [
    {
     "data": {
      "text/plain": [
       "[{'_id': ObjectId('5c84a1b6a32d6bf367f8ed5f')},\n",
       " {'_id': ObjectId('5c84a1b6a32d6bf367f8eee8')}]"
      ]
     },
     "execution_count": 58,
     "metadata": {},
     "output_type": "execute_result"
    }
   ],
   "source": [
    "list( collection.find( { \n",
    "    \"name\" : { \"$in\": [\"Kimberley Chase\", \"Kinney Wynn\"] }\n",
    "}, ''))      # includes the names in find"
   ]
  },
  {
   "cell_type": "code",
   "execution_count": 59,
   "metadata": {
    "ExecuteTime": {
     "end_time": "2019-03-10T05:33:44.305071Z",
     "start_time": "2019-03-10T05:33:44.228870Z"
    }
   },
   "outputs": [
    {
     "data": {
      "text/plain": [
       "1000"
      ]
     },
     "execution_count": 59,
     "metadata": {},
     "output_type": "execute_result"
    }
   ],
   "source": [
    "collection.count_documents({\"age\" : { \"$nin\" : [\"\"] } })# all documents"
   ]
  },
  {
   "cell_type": "markdown",
   "metadata": {},
   "source": [
    "#### 4. Relational Operators"
   ]
  },
  {
   "cell_type": "code",
   "execution_count": 60,
   "metadata": {
    "ExecuteTime": {
     "end_time": "2019-03-10T05:33:44.405504Z",
     "start_time": "2019-03-10T05:33:44.306936Z"
    }
   },
   "outputs": [
    {
     "data": {
      "text/plain": [
       "152"
      ]
     },
     "execution_count": 60,
     "metadata": {},
     "output_type": "execute_result"
    }
   ],
   "source": [
    "collection.count_documents({\"age\": {\"$gte\" : 38}}) # greater than or equal"
   ]
  },
  {
   "cell_type": "code",
   "execution_count": 61,
   "metadata": {
    "ExecuteTime": {
     "end_time": "2019-03-10T05:33:44.482912Z",
     "start_time": "2019-03-10T05:33:44.406809Z"
    }
   },
   "outputs": [
    {
     "data": {
      "text/plain": [
       "103"
      ]
     },
     "execution_count": 61,
     "metadata": {},
     "output_type": "execute_result"
    }
   ],
   "source": [
    "collection.count_documents({\"age\": {\"$gt\" : 38}}) # greater than"
   ]
  },
  {
   "cell_type": "code",
   "execution_count": 62,
   "metadata": {
    "ExecuteTime": {
     "end_time": "2019-03-10T05:33:44.571851Z",
     "start_time": "2019-03-10T05:33:44.484267Z"
    }
   },
   "outputs": [
    {
     "data": {
      "text/plain": [
       "49"
      ]
     },
     "execution_count": 62,
     "metadata": {},
     "output_type": "execute_result"
    }
   ],
   "source": [
    "collection.count_documents({\"age\": {\"$eq\" : 38}}) # equal"
   ]
  },
  {
   "cell_type": "code",
   "execution_count": 63,
   "metadata": {
    "ExecuteTime": {
     "end_time": "2019-03-10T05:33:44.638956Z",
     "start_time": "2019-03-10T05:33:44.573308Z"
    }
   },
   "outputs": [
    {
     "data": {
      "text/plain": [
       "848"
      ]
     },
     "execution_count": 63,
     "metadata": {},
     "output_type": "execute_result"
    }
   ],
   "source": [
    "collection.count_documents({\"age\": {\"$lt\" : 38}}) # lower than"
   ]
  },
  {
   "cell_type": "code",
   "execution_count": 64,
   "metadata": {
    "ExecuteTime": {
     "end_time": "2019-03-10T05:33:44.705322Z",
     "start_time": "2019-03-10T05:33:44.640341Z"
    }
   },
   "outputs": [
    {
     "data": {
      "text/plain": [
       "897"
      ]
     },
     "execution_count": 64,
     "metadata": {},
     "output_type": "execute_result"
    }
   ],
   "source": [
    "collection.count_documents({\"age\": {\"$lte\" : 38}}) # lower than or equal"
   ]
  },
  {
   "cell_type": "markdown",
   "metadata": {},
   "source": [
    "#### 5. Logical Opeators"
   ]
  },
  {
   "cell_type": "code",
   "execution_count": 65,
   "metadata": {
    "ExecuteTime": {
     "end_time": "2019-03-10T05:33:44.783402Z",
     "start_time": "2019-03-10T05:33:44.706861Z"
    }
   },
   "outputs": [
    {
     "data": {
      "text/plain": [
       "[{'_id': ObjectId('5c84a1b6a32d6bf367f8ed5f')}]"
      ]
     },
     "execution_count": 65,
     "metadata": {},
     "output_type": "execute_result"
    }
   ],
   "source": [
    "# AND Operator\n",
    "filters = { \"$and\":[ {\"name\" : \"Kinney Wynn\"}, {\"age\": 22} ]}\n",
    "fields = {}      # if fields are empty, it shows by default the id\n",
    "list ( collection.find( filters , fields ))"
   ]
  },
  {
   "cell_type": "code",
   "execution_count": 66,
   "metadata": {
    "ExecuteTime": {
     "end_time": "2019-03-10T05:33:44.890511Z",
     "start_time": "2019-03-10T05:33:44.784767Z"
    }
   },
   "outputs": [
    {
     "data": {
      "text/plain": [
       "88"
      ]
     },
     "execution_count": 66,
     "metadata": {},
     "output_type": "execute_result"
    }
   ],
   "source": [
    "# OR Operator\n",
    "filters = {\"$or\":[ {\"age\" : 28}, {\"age\" : 29} ]}\n",
    "fields = {}\n",
    "\n",
    "collection.count_documents( filters , fields )"
   ]
  },
  {
   "cell_type": "code",
   "execution_count": 67,
   "metadata": {
    "ExecuteTime": {
     "end_time": "2019-03-10T05:33:44.973088Z",
     "start_time": "2019-03-10T05:33:44.892536Z"
    }
   },
   "outputs": [
    {
     "data": {
      "text/plain": [
       "[{'_id': ObjectId('5c84a1b6a32d6bf367f8ed5f'),\n",
       "  'name': 'Kinney Wynn',\n",
       "  'age': 22},\n",
       " {'_id': ObjectId('5c84a1b6a32d6bf367f8eee8'),\n",
       "  'name': 'Kimberley Chase',\n",
       "  'age': 22}]"
      ]
     },
     "execution_count": 67,
     "metadata": {},
     "output_type": "execute_result"
    }
   ],
   "source": [
    "# AND + OR\n",
    "filters = { \"$and\":[ \n",
    "                {\"$or\":[ {\"name\" : \"Kinney Wynn\"}, {\"name\" : \"Kimberley Chase\"}]},\n",
    "                {\"age\": 22} \n",
    "            ]}\n",
    "fields = {'name','age'}      # if fields are empty, it shows by default the id\n",
    "\n",
    "list ( collection.find( filters , fields ))"
   ]
  },
  {
   "cell_type": "code",
   "execution_count": 68,
   "metadata": {
    "ExecuteTime": {
     "end_time": "2019-03-10T05:33:45.039120Z",
     "start_time": "2019-03-10T05:33:44.974464Z"
    }
   },
   "outputs": [
    {
     "name": "stdout",
     "output_type": "stream",
     "text": [
      "1000\n",
      "0\n"
     ]
    }
   ],
   "source": [
    "# EXISTS + NOT EXISTS\n",
    "print(collection.count_documents({'_id' : {'$exists' : 1}}))  # Counts all documents with attribute '_id'\n",
    "# Counts documents without attribute 'age'\n",
    "print(collection.count_documents({'age' : {'$exists' : 0}}))"
   ]
  },
  {
   "cell_type": "markdown",
   "metadata": {},
   "source": [
    "#### 6. Listing Items of a List "
   ]
  },
  {
   "cell_type": "code",
   "execution_count": 69,
   "metadata": {
    "ExecuteTime": {
     "end_time": "2019-03-10T05:33:45.106925Z",
     "start_time": "2019-03-10T05:33:45.040629Z"
    }
   },
   "outputs": [
    {
     "name": "stdout",
     "output_type": "stream",
     "text": [
      "126\n",
      "874\n",
      "323\n"
     ]
    }
   ],
   "source": [
    "# Count documents with age equal to 28, 29 or 30\n",
    "print(collection.count_documents({'age' : {'$in': [ 28, 29, 30]}}))\n",
    "# Count documents with age different to 28, 29 or 30\n",
    "print(collection.count_documents({'age' : {'$nin': [ 28, 29, 30]}}))\n",
    "# Count documents with favorite fruit different to banana and apple\n",
    "print(collection.count_documents({'favoriteFruit' : {'$nin': [ 'banana', 'apple']}}))"
   ]
  },
  {
   "cell_type": "markdown",
   "metadata": {},
   "source": [
    "## Indexing "
   ]
  },
  {
   "cell_type": "code",
   "execution_count": 70,
   "metadata": {
    "ExecuteTime": {
     "end_time": "2019-03-10T05:33:45.171437Z",
     "start_time": "2019-03-10T05:33:45.108302Z"
    }
   },
   "outputs": [
    {
     "data": {
      "text/plain": [
       "{'_id_': {'v': 2, 'key': [('_id', 1)], 'ns': 'people.addressbook'}}"
      ]
     },
     "execution_count": 70,
     "metadata": {},
     "output_type": "execute_result"
    }
   ],
   "source": [
    "collection.index_information() # Shows the existing indexes"
   ]
  },
  {
   "cell_type": "code",
   "execution_count": 71,
   "metadata": {
    "ExecuteTime": {
     "end_time": "2019-03-10T05:33:45.449683Z",
     "start_time": "2019-03-10T05:33:45.173001Z"
    }
   },
   "outputs": [
    {
     "data": {
      "text/plain": [
       "'age_1'"
      ]
     },
     "execution_count": 71,
     "metadata": {},
     "output_type": "execute_result"
    }
   ],
   "source": [
    "collection.create_index([( \"age\" , pymongo.ASCENDING)]) # Returns the name of the index"
   ]
  },
  {
   "cell_type": "code",
   "execution_count": 72,
   "metadata": {
    "ExecuteTime": {
     "end_time": "2019-03-10T05:33:45.516116Z",
     "start_time": "2019-03-10T05:33:45.451140Z"
    }
   },
   "outputs": [],
   "source": [
    "collection.drop_index(\"age_1\") # Drop the existing index"
   ]
  },
  {
   "cell_type": "code",
   "execution_count": null,
   "metadata": {},
   "outputs": [],
   "source": []
  }
 ],
 "metadata": {
  "kernelspec": {
   "display_name": "Python 3",
   "language": "python",
   "name": "python3"
  },
  "language_info": {
   "codemirror_mode": {
    "name": "ipython",
    "version": 3
   },
   "file_extension": ".py",
   "mimetype": "text/x-python",
   "name": "python",
   "nbconvert_exporter": "python",
   "pygments_lexer": "ipython3",
   "version": "3.6.8"
  }
 },
 "nbformat": 4,
 "nbformat_minor": 2
}