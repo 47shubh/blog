{
 "cells": [
  {
   "cell_type": "markdown",
   "metadata": {},
   "source": [
    "# Sea Snail (Abalone) Age and Gender Prediction \n",
    "# NAME: Shubham Kumar <br>PRN: 18030142032\n"
   ]
  },
  {
   "cell_type": "markdown",
   "metadata": {},
   "source": [
    "<b>Abalone </b> is a common name for any of a group of small to very large sea snails, marine gastropod molluscs in the family Haliotidae. Other common names are ear shells, sea ears, and muttonfish or muttonshells in Australia, ormer in Great Britain, abalone in South Africa, and pāua in New Zealand. These are sea snails that are quite in dangered in South Africa at least, but can be found in Australia, Great Britian and New Zealand."
   ]
  },
  {
   "cell_type": "markdown",
   "metadata": {},
   "source": [
    "The age of abalone is determined by cutting the shell through the cone, staining it, and counting the number of rings through a microscope. <br>\n",
    "The gender of a live abalone is determined by holding it out of the water with the holes along the bottom.<br>\n",
    "Other measurements, which are easier to obtain, are used to predict the age."
   ]
  },
  {
   "cell_type": "markdown",
   "metadata": {},
   "source": [
    "<b><u>Table of Contents</u></b>\n",
    "- DataSet\n",
    "- Dependencies\n",
    "- Data Exploration\n",
    "- Wrangling- Cleaning & Preprocessing\n",
    "- Visualization\n",
    "- Observation\n",
    "- Predictive Analysis using Classification Algorithms\n",
    "- Algorithms Application on dataset for Age and Gender Prediction\n",
    "- Conclusion"
   ]
  },
  {
   "cell_type": "markdown",
   "metadata": {},
   "source": [
    "### <br><br><br><br><u>Dataset Location:</u> https://archive.ics.uci.edu/ml/datasets/abalone"
   ]
  },
  {
   "cell_type": "markdown",
   "metadata": {},
   "source": [
    "#### Dataset Description"
   ]
  },
  {
   "cell_type": "raw",
   "metadata": {
    "ExecuteTime": {
     "end_time": "2019-02-28T15:20:46.157649Z",
     "start_time": "2019-02-28T15:20:46.149099Z"
    }
   },
   "source": [
    "Name           Data-Type    Measure.    Description\n",
    "----           ---------    -----       -----------\n",
    "Sex             nominal                 M, F, and I (infant)\n",
    "Length         continuous    mm         Longest shell measurement\n",
    "Diameter       continuous    mm         perpendicular to length\n",
    "Height         continuous    mm         with meat in shell\n",
    "Whole weight    continuous   grams      whole abalone\n",
    "Shucked weight  continuous   grams      weight of meat\n",
    "Viscera weight  continuous   grams      gut weight (after bleeding)\n",
    "Shell weight    continuous   grams      after being dried\n",
    "Rings           integer                 +1.5 gives the age in years"
   ]
  },
  {
   "cell_type": "markdown",
   "metadata": {},
   "source": [
    "### <br><br><br><br>Import Dependencies \n",
    "<b>Libraries Used:</b> Numpy, Pandas, Seaborn, Matplotlib, Sklearn "
   ]
  },
  {
   "cell_type": "code",
   "execution_count": 1,
   "metadata": {
    "ExecuteTime": {
     "end_time": "2019-03-02T18:09:45.983711Z",
     "start_time": "2019-03-02T18:09:45.174224Z"
    }
   },
   "outputs": [],
   "source": [
    "# data analysis\n",
    "import numpy as np\n",
    "import pandas as pd \n",
    "\n",
    "# visualization\n",
    "import seaborn as sns\n",
    "import matplotlib.pyplot as plt\n",
    "%matplotlib inline\n",
    "\n",
    "# machine learning algorithms\n",
    "from sklearn.svm import SVC, LinearSVC\n",
    "from sklearn.naive_bayes import GaussianNB\n",
    "from sklearn.neighbors import KNeighborsClassifier\n",
    "from sklearn.model_selection import train_test_split, cross_val_score\n",
    "from sklearn.metrics import classification_report,accuracy_score,confusion_matrix\n",
    "\n",
    "import warnings\n",
    "warnings.filterwarnings('ignore')"
   ]
  },
  {
   "cell_type": "markdown",
   "metadata": {},
   "source": [
    "### <br><br><br><br>Data Loading from CSV and Exploration"
   ]
  },
  {
   "cell_type": "code",
   "execution_count": 2,
   "metadata": {
    "ExecuteTime": {
     "end_time": "2019-03-02T18:09:45.998215Z",
     "start_time": "2019-03-02T18:09:45.986104Z"
    }
   },
   "outputs": [],
   "source": [
    "data = pd.read_csv('./sea-snail-abalone.csv')"
   ]
  },
  {
   "cell_type": "code",
   "execution_count": 3,
   "metadata": {
    "ExecuteTime": {
     "end_time": "2019-03-02T18:09:46.114715Z",
     "start_time": "2019-03-02T18:09:46.000398Z"
    }
   },
   "outputs": [
    {
     "name": "stdout",
     "output_type": "stream",
     "text": [
      "The dimension of dataset (row,column): (4177, 9)\n",
      "\n",
      "There are 9 Columns of the given dataset which are as follows :\n",
      " ['Sex', 'Length', 'Diameter', 'Height', 'Whole weight', 'Shucked weight', 'Viscera weight', 'Shell weight', 'Rings']\n"
     ]
    }
   ],
   "source": [
    "print(\"The dimension of dataset (row,column):\",data.shape)\n",
    "print(\"\\nThere are 9 Columns of the given dataset which are as follows :\\n\",list(data.columns))"
   ]
  },
  {
   "cell_type": "code",
   "execution_count": 4,
   "metadata": {
    "ExecuteTime": {
     "end_time": "2019-03-02T18:09:46.226972Z",
     "start_time": "2019-03-02T18:09:46.117456Z"
    }
   },
   "outputs": [
    {
     "name": "stdout",
     "output_type": "stream",
     "text": [
      "<class 'pandas.core.frame.DataFrame'>\n",
      "RangeIndex: 4177 entries, 0 to 4176\n",
      "Data columns (total 9 columns):\n",
      "Sex               4177 non-null object\n",
      "Length            4177 non-null float64\n",
      "Diameter          4177 non-null object\n",
      "Height            4175 non-null float64\n",
      "Whole weight      4177 non-null float64\n",
      "Shucked weight    4177 non-null object\n",
      "Viscera weight    4175 non-null float64\n",
      "Shell weight      4177 non-null float64\n",
      "Rings             4177 non-null int64\n",
      "dtypes: float64(5), int64(1), object(3)\n",
      "memory usage: 293.8+ KB\n"
     ]
    }
   ],
   "source": [
    "data.info()"
   ]
  },
  {
   "cell_type": "markdown",
   "metadata": {},
   "source": [
    "The information shows that there are some values missing from 'Height' and 'Viscera weight' column and the data-type for 'Diameter' and 'Shucked weight' are not numeric values.<br><br>"
   ]
  },
  {
   "cell_type": "code",
   "execution_count": 5,
   "metadata": {
    "ExecuteTime": {
     "end_time": "2019-03-02T18:09:46.327611Z",
     "start_time": "2019-03-02T18:09:46.228943Z"
    }
   },
   "outputs": [
    {
     "data": {
      "text/html": [
       "<div>\n",
       "<style scoped>\n",
       "    .dataframe tbody tr th:only-of-type {\n",
       "        vertical-align: middle;\n",
       "    }\n",
       "\n",
       "    .dataframe tbody tr th {\n",
       "        vertical-align: top;\n",
       "    }\n",
       "\n",
       "    .dataframe thead th {\n",
       "        text-align: right;\n",
       "    }\n",
       "</style>\n",
       "<table border=\"1\" class=\"dataframe\">\n",
       "  <thead>\n",
       "    <tr style=\"text-align: right;\">\n",
       "      <th></th>\n",
       "      <th>Length</th>\n",
       "      <th>Height</th>\n",
       "      <th>Whole weight</th>\n",
       "      <th>Viscera weight</th>\n",
       "      <th>Shell weight</th>\n",
       "      <th>Rings</th>\n",
       "    </tr>\n",
       "  </thead>\n",
       "  <tbody>\n",
       "    <tr>\n",
       "      <th>count</th>\n",
       "      <td>4177.000000</td>\n",
       "      <td>4175.000000</td>\n",
       "      <td>4177.000000</td>\n",
       "      <td>4175.000000</td>\n",
       "      <td>4177.000000</td>\n",
       "      <td>4177.000000</td>\n",
       "    </tr>\n",
       "    <tr>\n",
       "      <th>mean</th>\n",
       "      <td>0.523992</td>\n",
       "      <td>0.139583</td>\n",
       "      <td>0.828742</td>\n",
       "      <td>0.180678</td>\n",
       "      <td>0.238831</td>\n",
       "      <td>9.933684</td>\n",
       "    </tr>\n",
       "    <tr>\n",
       "      <th>std</th>\n",
       "      <td>0.120093</td>\n",
       "      <td>0.041725</td>\n",
       "      <td>0.490389</td>\n",
       "      <td>0.109572</td>\n",
       "      <td>0.139203</td>\n",
       "      <td>3.224169</td>\n",
       "    </tr>\n",
       "    <tr>\n",
       "      <th>min</th>\n",
       "      <td>0.075000</td>\n",
       "      <td>0.010000</td>\n",
       "      <td>0.002000</td>\n",
       "      <td>0.000500</td>\n",
       "      <td>0.001500</td>\n",
       "      <td>1.000000</td>\n",
       "    </tr>\n",
       "    <tr>\n",
       "      <th>25%</th>\n",
       "      <td>0.450000</td>\n",
       "      <td>0.115000</td>\n",
       "      <td>0.441500</td>\n",
       "      <td>0.093500</td>\n",
       "      <td>0.130000</td>\n",
       "      <td>8.000000</td>\n",
       "    </tr>\n",
       "    <tr>\n",
       "      <th>50%</th>\n",
       "      <td>0.545000</td>\n",
       "      <td>0.140000</td>\n",
       "      <td>0.799500</td>\n",
       "      <td>0.171000</td>\n",
       "      <td>0.234000</td>\n",
       "      <td>9.000000</td>\n",
       "    </tr>\n",
       "    <tr>\n",
       "      <th>75%</th>\n",
       "      <td>0.615000</td>\n",
       "      <td>0.165000</td>\n",
       "      <td>1.153000</td>\n",
       "      <td>0.253000</td>\n",
       "      <td>0.329000</td>\n",
       "      <td>11.000000</td>\n",
       "    </tr>\n",
       "    <tr>\n",
       "      <th>max</th>\n",
       "      <td>0.815000</td>\n",
       "      <td>1.130000</td>\n",
       "      <td>2.825500</td>\n",
       "      <td>0.760000</td>\n",
       "      <td>1.005000</td>\n",
       "      <td>29.000000</td>\n",
       "    </tr>\n",
       "  </tbody>\n",
       "</table>\n",
       "</div>"
      ],
      "text/plain": [
       "            Length       Height  Whole weight  Viscera weight  Shell weight  \\\n",
       "count  4177.000000  4175.000000   4177.000000     4175.000000   4177.000000   \n",
       "mean      0.523992     0.139583      0.828742        0.180678      0.238831   \n",
       "std       0.120093     0.041725      0.490389        0.109572      0.139203   \n",
       "min       0.075000     0.010000      0.002000        0.000500      0.001500   \n",
       "25%       0.450000     0.115000      0.441500        0.093500      0.130000   \n",
       "50%       0.545000     0.140000      0.799500        0.171000      0.234000   \n",
       "75%       0.615000     0.165000      1.153000        0.253000      0.329000   \n",
       "max       0.815000     1.130000      2.825500        0.760000      1.005000   \n",
       "\n",
       "             Rings  \n",
       "count  4177.000000  \n",
       "mean      9.933684  \n",
       "std       3.224169  \n",
       "min       1.000000  \n",
       "25%       8.000000  \n",
       "50%       9.000000  \n",
       "75%      11.000000  \n",
       "max      29.000000  "
      ]
     },
     "execution_count": 5,
     "metadata": {},
     "output_type": "execute_result"
    }
   ],
   "source": [
    "data.describe() # DataSet Description"
   ]
  },
  {
   "cell_type": "markdown",
   "metadata": {},
   "source": [
    "## <br><br><br><br>Data Wrangling: Editing, Cleaning and Preprocessing"
   ]
  },
  {
   "cell_type": "code",
   "execution_count": 6,
   "metadata": {
    "ExecuteTime": {
     "end_time": "2019-03-02T18:09:46.392288Z",
     "start_time": "2019-03-02T18:09:46.329009Z"
    }
   },
   "outputs": [],
   "source": [
    "data.columns = data.columns.str.replace(' ', '_') # replacing whitespaces to underscore\n",
    "data.columns = data.columns.str.lower() # changing from camel-case to lower case."
   ]
  },
  {
   "cell_type": "code",
   "execution_count": 7,
   "metadata": {
    "ExecuteTime": {
     "end_time": "2019-03-02T18:09:46.488779Z",
     "start_time": "2019-03-02T18:09:46.393782Z"
    }
   },
   "outputs": [
    {
     "data": {
      "text/html": [
       "<div>\n",
       "<style scoped>\n",
       "    .dataframe tbody tr th:only-of-type {\n",
       "        vertical-align: middle;\n",
       "    }\n",
       "\n",
       "    .dataframe tbody tr th {\n",
       "        vertical-align: top;\n",
       "    }\n",
       "\n",
       "    .dataframe thead th {\n",
       "        text-align: right;\n",
       "    }\n",
       "</style>\n",
       "<table border=\"1\" class=\"dataframe\">\n",
       "  <thead>\n",
       "    <tr style=\"text-align: right;\">\n",
       "      <th></th>\n",
       "      <th>sex</th>\n",
       "      <th>length</th>\n",
       "      <th>diameter</th>\n",
       "      <th>height</th>\n",
       "      <th>whole_weight</th>\n",
       "      <th>shucked_weight</th>\n",
       "      <th>viscera_weight</th>\n",
       "      <th>shell_weight</th>\n",
       "      <th>rings</th>\n",
       "    </tr>\n",
       "  </thead>\n",
       "  <tbody>\n",
       "    <tr>\n",
       "      <th>0</th>\n",
       "      <td>M</td>\n",
       "      <td>0.455</td>\n",
       "      <td>0.365</td>\n",
       "      <td>0.095</td>\n",
       "      <td>0.5140</td>\n",
       "      <td>0.2245</td>\n",
       "      <td>0.1010</td>\n",
       "      <td>0.150</td>\n",
       "      <td>15</td>\n",
       "    </tr>\n",
       "    <tr>\n",
       "      <th>1</th>\n",
       "      <td>M</td>\n",
       "      <td>0.350</td>\n",
       "      <td>0.265</td>\n",
       "      <td>0.090</td>\n",
       "      <td>0.2255</td>\n",
       "      <td>0.0995</td>\n",
       "      <td>0.0485</td>\n",
       "      <td>0.070</td>\n",
       "      <td>7</td>\n",
       "    </tr>\n",
       "    <tr>\n",
       "      <th>2</th>\n",
       "      <td>F</td>\n",
       "      <td>0.530</td>\n",
       "      <td>0.42</td>\n",
       "      <td>0.135</td>\n",
       "      <td>0.6770</td>\n",
       "      <td>0.2565</td>\n",
       "      <td>0.1415</td>\n",
       "      <td>0.210</td>\n",
       "      <td>9</td>\n",
       "    </tr>\n",
       "    <tr>\n",
       "      <th>3</th>\n",
       "      <td>M</td>\n",
       "      <td>0.440</td>\n",
       "      <td>0.365</td>\n",
       "      <td>0.125</td>\n",
       "      <td>0.5160</td>\n",
       "      <td>0.2155</td>\n",
       "      <td>0.1140</td>\n",
       "      <td>0.155</td>\n",
       "      <td>10</td>\n",
       "    </tr>\n",
       "    <tr>\n",
       "      <th>4</th>\n",
       "      <td>I</td>\n",
       "      <td>0.330</td>\n",
       "      <td>0.255</td>\n",
       "      <td>0.080</td>\n",
       "      <td>0.2050</td>\n",
       "      <td>0.0895</td>\n",
       "      <td>0.0395</td>\n",
       "      <td>0.055</td>\n",
       "      <td>7</td>\n",
       "    </tr>\n",
       "  </tbody>\n",
       "</table>\n",
       "</div>"
      ],
      "text/plain": [
       "  sex  length diameter  height  whole_weight shucked_weight  viscera_weight  \\\n",
       "0   M   0.455    0.365   0.095        0.5140         0.2245          0.1010   \n",
       "1   M   0.350    0.265   0.090        0.2255         0.0995          0.0485   \n",
       "2   F   0.530     0.42   0.135        0.6770         0.2565          0.1415   \n",
       "3   M   0.440    0.365   0.125        0.5160         0.2155          0.1140   \n",
       "4   I   0.330    0.255   0.080        0.2050         0.0895          0.0395   \n",
       "\n",
       "   shell_weight  rings  \n",
       "0         0.150     15  \n",
       "1         0.070      7  \n",
       "2         0.210      9  \n",
       "3         0.155     10  \n",
       "4         0.055      7  "
      ]
     },
     "execution_count": 7,
     "metadata": {},
     "output_type": "execute_result"
    }
   ],
   "source": [
    "data.head() "
   ]
  },
  {
   "cell_type": "code",
   "execution_count": 8,
   "metadata": {
    "ExecuteTime": {
     "end_time": "2019-03-02T18:09:46.571758Z",
     "start_time": "2019-03-02T18:09:46.490466Z"
    }
   },
   "outputs": [
    {
     "data": {
      "text/plain": [
       "sex                object\n",
       "length            float64\n",
       "diameter           object\n",
       "height            float64\n",
       "whole_weight      float64\n",
       "shucked_weight     object\n",
       "viscera_weight    float64\n",
       "shell_weight      float64\n",
       "rings               int64\n",
       "dtype: object"
      ]
     },
     "execution_count": 8,
     "metadata": {},
     "output_type": "execute_result"
    }
   ],
   "source": [
    "data.dtypes # Data Types for each column before conversion."
   ]
  },
  {
   "cell_type": "code",
   "execution_count": 9,
   "metadata": {
    "ExecuteTime": {
     "end_time": "2019-03-02T18:09:46.664846Z",
     "start_time": "2019-03-02T18:09:46.573131Z"
    }
   },
   "outputs": [
    {
     "name": "stdout",
     "output_type": "stream",
     "text": [
      "sex               0.000000\n",
      "length            0.000000\n",
      "diameter          0.000000\n",
      "height            0.047881\n",
      "whole_weight      0.000000\n",
      "shucked_weight    0.000000\n",
      "viscera_weight    0.047881\n",
      "shell_weight      0.000000\n",
      "rings             0.000000\n",
      "dtype: float64\n"
     ]
    }
   ],
   "source": [
    "# Checking whether any column having the PERCENTAGE of NULL Values \n",
    "print(data.isnull().sum()/data.shape[0] * 100)"
   ]
  },
  {
   "cell_type": "code",
   "execution_count": 10,
   "metadata": {
    "ExecuteTime": {
     "end_time": "2019-03-02T18:09:46.846209Z",
     "start_time": "2019-03-02T18:09:46.667368Z"
    }
   },
   "outputs": [],
   "source": [
    "data.diameter = data.diameter.str.replace('?','0') # Replacing unwanted entries\n",
    "data.diameter = pd.to_numeric(data.diameter) # Data type conversion of the column Diameter(it cannot be zero)\n",
    "data.diameter[data.diameter == 0] = data.diameter.mean() # Updating missing values with median of the column\n",
    "\n",
    "data.height = data.height.fillna(data.height.mean()) # Replacing NAN value with mean of column\n",
    "\n",
    "data.shucked_weight = data.shucked_weight.str.replace('?','0') # Replacing unwanted entries\n",
    "data.shucked_weight = pd.to_numeric(data.shucked_weight)  # Data type conversion of the column Shucked_Weight\n",
    "data.shucked_weight[data.shucked_weight == 0] = data.shucked_weight.mean()# Updating missing values with median\n",
    "\n",
    "data.viscera_weight = data.viscera_weight.fillna(data.viscera_weight.mean()) # Replacing NAN value with mean"
   ]
  },
  {
   "cell_type": "code",
   "execution_count": 11,
   "metadata": {
    "ExecuteTime": {
     "end_time": "2019-03-02T18:09:46.851563Z",
     "start_time": "2019-03-02T18:09:46.847764Z"
    }
   },
   "outputs": [
    {
     "data": {
      "text/plain": [
       "sex                object\n",
       "length            float64\n",
       "diameter          float64\n",
       "height            float64\n",
       "whole_weight      float64\n",
       "shucked_weight    float64\n",
       "viscera_weight    float64\n",
       "shell_weight      float64\n",
       "rings               int64\n",
       "dtype: object"
      ]
     },
     "execution_count": 11,
     "metadata": {},
     "output_type": "execute_result"
    }
   ],
   "source": [
    "data.dtypes # Data Types for each column after conversion."
   ]
  },
  {
   "cell_type": "code",
   "execution_count": 12,
   "metadata": {
    "ExecuteTime": {
     "end_time": "2019-03-02T18:09:46.949645Z",
     "start_time": "2019-03-02T18:09:46.852895Z"
    }
   },
   "outputs": [
    {
     "name": "stdout",
     "output_type": "stream",
     "text": [
      "sex               0.0\n",
      "length            0.0\n",
      "diameter          0.0\n",
      "height            0.0\n",
      "whole_weight      0.0\n",
      "shucked_weight    0.0\n",
      "viscera_weight    0.0\n",
      "shell_weight      0.0\n",
      "rings             0.0\n",
      "dtype: float64\n"
     ]
    }
   ],
   "source": [
    "# PERCENTAGE of NULL Values  \n",
    "print(data.isnull().sum()/data.shape[0] * 100)"
   ]
  },
  {
   "cell_type": "code",
   "execution_count": 13,
   "metadata": {
    "ExecuteTime": {
     "end_time": "2019-03-02T18:09:47.050712Z",
     "start_time": "2019-03-02T18:09:46.951018Z"
    }
   },
   "outputs": [
    {
     "name": "stdout",
     "output_type": "stream",
     "text": [
      "False\n",
      "False\n",
      "False\n",
      "False\n",
      "False\n",
      "False\n",
      "False\n",
      "False\n"
     ]
    }
   ],
   "source": [
    "# Verifying all the measurables for snail are greater than zero and positive\n",
    "print(data.length.any() <= 0)         \n",
    "print(data.diameter.any() <= 0)   \n",
    "print(data.height.any() <= 0)\n",
    "print(data.whole_weight.any() <= 0)\n",
    "print(data.shucked_weight.any() <= 0) \n",
    "print(data.viscera_weight.any() <= 0) \n",
    "print(data.shell_weight.any() <= 0)\n",
    "print(data.rings.any() <= 0)"
   ]
  },
  {
   "cell_type": "markdown",
   "metadata": {},
   "source": [
    "The 'Length', 'Diameter', 'Height', 'Weights' can not be negative and zero. If any of the given values for the columns are zero or negative then the data about the Abalone is not correct. A living being has all these given properties(especially the sea snail)."
   ]
  },
  {
   "cell_type": "markdown",
   "metadata": {
    "ExecuteTime": {
     "end_time": "2019-02-28T16:10:05.030343Z",
     "start_time": "2019-02-28T16:10:05.027193Z"
    }
   },
   "source": [
    "## <br><br><br><br> Data Visualization"
   ]
  },
  {
   "cell_type": "markdown",
   "metadata": {},
   "source": [
    "<b>Sex:</b> The sex variable is categrised into three parts: M for Male, F for Female and I for Infant(not adult). "
   ]
  },
  {
   "cell_type": "code",
   "execution_count": 14,
   "metadata": {
    "ExecuteTime": {
     "end_time": "2019-03-02T18:09:47.337350Z",
     "start_time": "2019-03-02T18:09:47.052516Z"
    }
   },
   "outputs": [
    {
     "data": {
      "image/png": "[encoded data removed]",
      "text/plain": [
       "<Figure size 432x288 with 1 Axes>"
      ]
     },
     "metadata": {
      "needs_background": "light"
     },
     "output_type": "display_data"
    }
   ],
   "source": [
    "data.groupby(['sex']).count().plot(kind='bar',legend=False,colors='lightcoral')\n",
    "plt.title('Distribution of Sex Ratio') \n",
    "plt.show()"
   ]
  },
  {
   "cell_type": "markdown",
   "metadata": {},
   "source": [
    "The count of each category with bar plot shows that the dataset is balanced relative to gender attibutes. <br><br>"
   ]
  },
  {
   "cell_type": "code",
   "execution_count": 15,
   "metadata": {
    "ExecuteTime": {
     "end_time": "2019-03-02T18:09:47.571175Z",
     "start_time": "2019-03-02T18:09:47.338821Z"
    }
   },
   "outputs": [
    {
     "data": {
      "image/png": "[encoded data removed]",
      "text/plain": [
       "<Figure size 432x288 with 1 Axes>"
      ]
     },
     "metadata": {
      "needs_background": "light"
     },
     "output_type": "display_data"
    }
   ],
   "source": [
    "sns.countplot(data['rings'])\n",
    "plt.title('Distribution of Rings')\n",
    "plt.show()"
   ]
  },
  {
   "cell_type": "markdown",
   "metadata": {},
   "source": [
    "<b>Rings:</b> Abalone with Rings between 7-11 have the most observations.<br><br>"
   ]
  },
  {
   "cell_type": "code",
   "execution_count": 16,
   "metadata": {
    "ExecuteTime": {
     "end_time": "2019-03-02T18:09:47.709837Z",
     "start_time": "2019-03-02T18:09:47.572703Z"
    }
   },
   "outputs": [
    {
     "data": {
      "image/png": "[encoded data removed]",
      "text/plain": [
       "<Figure size 432x288 with 1 Axes>"
      ]
     },
     "metadata": {
      "needs_background": "light"
     },
     "output_type": "display_data"
    }
   ],
   "source": [
    "sns.boxplot(data=data, x='sex', y='rings')\n",
    "plt.show()"
   ]
  },
  {
   "cell_type": "markdown",
   "metadata": {},
   "source": [
    "- Distribution between Male and Female is similar\n",
    "- Most of the Rings both for Male and Female are between 7 and 12\n",
    "- Infants have mostly from 5 to 10 Rings"
   ]
  },
  {
   "cell_type": "code",
   "execution_count": 17,
   "metadata": {
    "ExecuteTime": {
     "end_time": "2019-03-02T18:09:48.958260Z",
     "start_time": "2019-03-02T18:09:47.711308Z"
    }
   },
   "outputs": [
    {
     "data": {
      "image/png": "[encoded data removed]",
      "text/plain": [
       "<Figure size 1440x720 with 9 Axes>"
      ]
     },
     "metadata": {
      "needs_background": "light"
     },
     "output_type": "display_data"
    }
   ],
   "source": [
    "data.hist(figsize=(20,10), grid = False, layout=(3,3), bins = 30)\n",
    "plt.show()"
   ]
  },
  {
   "cell_type": "markdown",
   "metadata": {},
   "source": [
    "These Histogram shows the skewness of data.<br><br><br><br>"
   ]
  },
  {
   "cell_type": "markdown",
   "metadata": {},
   "source": [
    "### Generating HeatMap to find out the correlation between each column"
   ]
  },
  {
   "cell_type": "code",
   "execution_count": 18,
   "metadata": {
    "ExecuteTime": {
     "end_time": "2019-03-02T18:09:49.450519Z",
     "start_time": "2019-03-02T18:09:48.962320Z"
    }
   },
   "outputs": [
    {
     "data": {
      "image/png": "[encoded data removed]",
      "text/plain": [
       "<Figure size 720x720 with 2 Axes>"
      ]
     },
     "metadata": {
      "needs_background": "light"
     },
     "output_type": "display_data"
    }
   ],
   "source": [
    "plt.figure(figsize=(10, 10))\n",
    "corr = data.corr()\n",
    "sns.heatmap(corr, annot=True)\n",
    "plt.show()"
   ]
  },
  {
   "cell_type": "markdown",
   "metadata": {},
   "source": [
    "### The HeatMap shows the following features:- \n",
    "- Length is highly correlated with Diameter<br>\n",
    "- Whole weight is highly correlated with all the features except Rings<br>\n",
    "- From all the features excluding Rings, Height is least correlated with other features<br>\n",
    "- Rings feature has the highest correlation with Shell Weight followed by Height, Length and Diameter<br>\n",
    "<br><br>"
   ]
  },
  {
   "cell_type": "markdown",
   "metadata": {},
   "source": [
    "## Correlation Observation"
   ]
  },
  {
   "cell_type": "code",
   "execution_count": 19,
   "metadata": {
    "ExecuteTime": {
     "end_time": "2019-03-02T18:09:49.457125Z",
     "start_time": "2019-03-02T18:09:49.453153Z"
    }
   },
   "outputs": [],
   "source": [
    "# Common function to find any correlations in the dataset\n",
    "def getAnyCorrelation(xcol,ycol):\n",
    "    fig, ax = plt.subplots(1)\n",
    "    for i in range(1):\n",
    "        x=data[xcol]\n",
    "        y=data[ycol]\n",
    "        marker=\"o\",\n",
    "        alpha=0.2,\n",
    "        ax.scatter(x,y, label=str(i))\n",
    "    plt.ylabel(ycol)\n",
    "    plt.xlabel(xcol)\n",
    "    plt.title(\"Correlation between \"+xcol+\" & \"+ycol,fontsize = 16)\n",
    "    plt.show()"
   ]
  },
  {
   "cell_type": "markdown",
   "metadata": {},
   "source": [
    "### Weight are linearly correlated with other weight features"
   ]
  },
  {
   "cell_type": "code",
   "execution_count": 20,
   "metadata": {
    "ExecuteTime": {
     "end_time": "2019-03-02T18:09:49.783933Z",
     "start_time": "2019-03-02T18:09:49.458664Z"
    }
   },
   "outputs": [
    {
     "data": {
      "image/png": "[encoded data removed]",
      "text/plain": [
       "<Figure size 432x288 with 1 Axes>"
      ]
     },
     "metadata": {
      "needs_background": "light"
     },
     "output_type": "display_data"
    }
   ],
   "source": [
    "getAnyCorrelation('shucked_weight','viscera_weight')"
   ]
  },
  {
   "cell_type": "code",
   "execution_count": 21,
   "metadata": {
    "ExecuteTime": {
     "end_time": "2019-03-02T18:09:50.057621Z",
     "start_time": "2019-03-02T18:09:49.785471Z"
    }
   },
   "outputs": [
    {
     "data": {
      "image/png": "[encoded data removed]",
      "text/plain": [
       "<Figure size 432x288 with 1 Axes>"
      ]
     },
     "metadata": {
      "needs_background": "light"
     },
     "output_type": "display_data"
    }
   ],
   "source": [
    "getAnyCorrelation('shucked_weight','shell_weight')"
   ]
  },
  {
   "cell_type": "code",
   "execution_count": 22,
   "metadata": {
    "ExecuteTime": {
     "end_time": "2019-03-02T18:09:50.243259Z",
     "start_time": "2019-03-02T18:09:50.059104Z"
    }
   },
   "outputs": [
    {
     "data": {
      "image/png": "[encoded data removed]",
      "text/plain": [
       "<Figure size 432x288 with 1 Axes>"
      ]
     },
     "metadata": {
      "needs_background": "light"
     },
     "output_type": "display_data"
    }
   ],
   "source": [
    "getAnyCorrelation('viscera_weight','shell_weight')"
   ]
  },
  {
   "cell_type": "markdown",
   "metadata": {},
   "source": [
    "### Length and Diameter shows linear correlation"
   ]
  },
  {
   "cell_type": "code",
   "execution_count": 23,
   "metadata": {
    "ExecuteTime": {
     "end_time": "2019-03-02T18:09:50.428215Z",
     "start_time": "2019-03-02T18:09:50.244688Z"
    }
   },
   "outputs": [
    {
     "data": {
      "image/png": "[encoded data removed]",
      "text/plain": [
       "<Figure size 432x288 with 1 Axes>"
      ]
     },
     "metadata": {
      "needs_background": "light"
     },
     "output_type": "display_data"
    }
   ],
   "source": [
    "getAnyCorrelation('length','diameter') "
   ]
  },
  {
   "cell_type": "markdown",
   "metadata": {
    "ExecuteTime": {
     "end_time": "2019-03-01T16:53:44.064575Z",
     "start_time": "2019-03-01T16:53:44.062111Z"
    }
   },
   "source": [
    "### Length, Diameter and Whole Weight shows linear correlation"
   ]
  },
  {
   "cell_type": "code",
   "execution_count": 24,
   "metadata": {
    "ExecuteTime": {
     "end_time": "2019-03-02T18:09:50.601460Z",
     "start_time": "2019-03-02T18:09:50.429659Z"
    }
   },
   "outputs": [
    {
     "data": {
      "image/png": "[encoded data removed]",
      "text/plain": [
       "<Figure size 432x288 with 1 Axes>"
      ]
     },
     "metadata": {
      "needs_background": "light"
     },
     "output_type": "display_data"
    }
   ],
   "source": [
    "getAnyCorrelation('diameter','whole_weight')"
   ]
  },
  {
   "cell_type": "code",
   "execution_count": 25,
   "metadata": {
    "ExecuteTime": {
     "end_time": "2019-03-02T18:09:50.785754Z",
     "start_time": "2019-03-02T18:09:50.602800Z"
    }
   },
   "outputs": [
    {
     "data": {
      "image/png": "[encoded data removed]",
      "text/plain": [
       "<Figure size 432x288 with 1 Axes>"
      ]
     },
     "metadata": {
      "needs_background": "light"
     },
     "output_type": "display_data"
    }
   ],
   "source": [
    "getAnyCorrelation('length','whole_weight')"
   ]
  },
  {
   "cell_type": "markdown",
   "metadata": {},
   "source": [
    "# <br><br><br><br>Classification Algorithms Used for Predictive Analysis:\n",
    "\n",
    "<b>1. K Nearest Neighbour</b> :- non-parametric, lazy learning algorithm. Purpose is to use a dataset in which the data points are separated into several classes to predict the classification of a new sample point. <br><br> \n",
    "\n",
    "<b>2. Support Vector Machine</b> :-  a powerful and flexible class of supervised algorithms for both classification and regression. Produces significant accuracy with less computation power. <br> <br> \n",
    "\n",
    "<b>3. Naive Bayes</b> :- a group of extremely fast and simple classification algorithms that are often suitable for very high-dimensional datasets. Very useful as a quick-and-dirty baseline for a classification problem.<br>\n",
    "\n",
    "I am going to apply these three aglorithms one by one to predict the Age and Gender of Abalone"
   ]
  },
  {
   "cell_type": "markdown",
   "metadata": {},
   "source": [
    "# <br><br><br> 1. Age Prediction:\n",
    "Age is a continious data. We can not apply classification model on age as it is regression problem. To do classification, I divided age into four categories namely: Young, Teen, Adult and Old. So now, the age of the Abalone can be predicted using classification model."
   ]
  },
  {
   "cell_type": "code",
   "execution_count": 26,
   "metadata": {
    "ExecuteTime": {
     "end_time": "2019-03-02T18:09:50.789498Z",
     "start_time": "2019-03-02T18:09:50.787371Z"
    }
   },
   "outputs": [],
   "source": [
    "ds = data"
   ]
  },
  {
   "cell_type": "code",
   "execution_count": 27,
   "metadata": {
    "ExecuteTime": {
     "end_time": "2019-03-02T18:09:50.864701Z",
     "start_time": "2019-03-02T18:09:50.791088Z"
    }
   },
   "outputs": [],
   "source": [
    "def sexConversion(x,t):\n",
    "    if x == t :\n",
    "        return 1\n",
    "    else: \n",
    "        return 0\n",
    "    \n",
    "ds['Sex_M'] = ds.sex.apply(lambda x: sexConversion(x,'M'))\n",
    "ds['Sex_F'] = ds.sex.apply(lambda x: sexConversion(x,'F'))\n",
    "ds['Sex_I'] = ds.sex.apply(lambda x: sexConversion(x,'I'))"
   ]
  },
  {
   "cell_type": "markdown",
   "metadata": {},
   "source": [
    "#### Categorizing Rings into four parts: Young, Teen, Adult and Old for Age classification"
   ]
  },
  {
   "cell_type": "code",
   "execution_count": 28,
   "metadata": {
    "ExecuteTime": {
     "end_time": "2019-03-02T18:09:50.961419Z",
     "start_time": "2019-03-02T18:09:50.866274Z"
    }
   },
   "outputs": [],
   "source": [
    "bins = [8,9,11,ds['rings'].max()]\n",
    "group_names = ['young','adult','old']\n",
    "ds['rings'] = pd.cut(ds['rings'],bins, labels = group_names)\n",
    "dictionary = {'young':0, 'teen':1, 'adult':2,'old':3}\n",
    "ds['rings'] = ds['rings'].map(dictionary)"
   ]
  },
  {
   "cell_type": "code",
   "execution_count": 29,
   "metadata": {
    "ExecuteTime": {
     "end_time": "2019-03-02T18:09:51.037089Z",
     "start_time": "2019-03-02T18:09:50.962872Z"
    }
   },
   "outputs": [],
   "source": [
    "ds1 = ds.drop(['sex'], axis = 1)"
   ]
  },
  {
   "cell_type": "markdown",
   "metadata": {},
   "source": [
    "## Splitting DataSet for Age Prediction"
   ]
  },
  {
   "cell_type": "code",
   "execution_count": 30,
   "metadata": {
    "ExecuteTime": {
     "end_time": "2019-03-02T18:09:51.116425Z",
     "start_time": "2019-03-02T18:09:51.038672Z"
    }
   },
   "outputs": [],
   "source": [
    "X = ds1.drop(['rings'], axis = 1)\n",
    "y = ds1['rings']\n",
    "y = y.fillna(y.mean())\n",
    "y = y.astype(int)\n",
    "X_train,X_test,y_train,y_test = train_test_split(X,y, test_size = 0.2,random_state=10)  "
   ]
  },
  {
   "cell_type": "markdown",
   "metadata": {},
   "source": [
    "### 1. Applying KNN Model"
   ]
  },
  {
   "cell_type": "code",
   "execution_count": 31,
   "metadata": {
    "ExecuteTime": {
     "end_time": "2019-03-02T18:09:51.235205Z",
     "start_time": "2019-03-02T18:09:51.117748Z"
    }
   },
   "outputs": [
    {
     "data": {
      "text/plain": [
       "74.17"
      ]
     },
     "execution_count": 31,
     "metadata": {},
     "output_type": "execute_result"
    }
   ],
   "source": [
    "knn = KNeighborsClassifier(n_neighbors=2)\n",
    "knn.fit(X_train, y_train)\n",
    "y_pred = knn.predict(X_test)\n",
    "acc_knn = round(knn.score(X_train, y_train) * 100, 2)\n",
    "acc_knn"
   ]
  },
  {
   "cell_type": "code",
   "execution_count": 32,
   "metadata": {
    "ExecuteTime": {
     "end_time": "2019-03-02T18:09:51.289339Z",
     "start_time": "2019-03-02T18:09:51.236889Z"
    }
   },
   "outputs": [
    {
     "name": "stdout",
     "output_type": "stream",
     "text": [
      "              precision    recall  f1-score   support\n",
      "\n",
      "           0       0.45      0.25      0.32       263\n",
      "           1       0.71      0.68      0.70       298\n",
      "           2       0.32      0.36      0.34       196\n",
      "           3       0.27      0.65      0.38        79\n",
      "\n",
      "   micro avg       0.47      0.47      0.47       836\n",
      "   macro avg       0.44      0.48      0.43       836\n",
      "weighted avg       0.50      0.47      0.46       836\n",
      "\n"
     ]
    }
   ],
   "source": [
    "print(classification_report(y_pred,y_test))"
   ]
  },
  {
   "cell_type": "code",
   "execution_count": 33,
   "metadata": {
    "ExecuteTime": {
     "end_time": "2019-03-02T18:09:51.360327Z",
     "start_time": "2019-03-02T18:09:51.291031Z"
    }
   },
   "outputs": [
    {
     "data": {
      "text/plain": [
       "array([[ 65,  67,  90,  41],\n",
       "       [ 39, 203,  36,  20],\n",
       "       [ 34,  14,  70,  78],\n",
       "       [  5,   2,  21,  51]])"
      ]
     },
     "execution_count": 33,
     "metadata": {},
     "output_type": "execute_result"
    }
   ],
   "source": [
    "confusion_matrix(y_pred,y_test)"
   ]
  },
  {
   "cell_type": "code",
   "execution_count": 34,
   "metadata": {
    "ExecuteTime": {
     "end_time": "2019-03-02T18:09:51.425521Z",
     "start_time": "2019-03-02T18:09:51.361924Z"
    }
   },
   "outputs": [
    {
     "name": "stdout",
     "output_type": "stream",
     "text": [
      "Accuracy of the Model: 46.53\n"
     ]
    }
   ],
   "source": [
    "aa_knn = round(accuracy_score(y_pred,y_test)*100,2)\n",
    "print('Accuracy of the Model:',aa_knn)"
   ]
  },
  {
   "cell_type": "markdown",
   "metadata": {},
   "source": [
    "### 2. Applying Gaussian Naive Bayes Model"
   ]
  },
  {
   "cell_type": "code",
   "execution_count": 35,
   "metadata": {
    "ExecuteTime": {
     "end_time": "2019-03-02T18:09:51.498638Z",
     "start_time": "2019-03-02T18:09:51.426864Z"
    }
   },
   "outputs": [
    {
     "data": {
      "text/plain": [
       "48.52"
      ]
     },
     "execution_count": 35,
     "metadata": {},
     "output_type": "execute_result"
    }
   ],
   "source": [
    "gaussian = GaussianNB()\n",
    "gaussian.fit(X_train, y_train)\n",
    "y_pred = gaussian.predict(X_test)\n",
    "acc_gaussian = round(gaussian.score(X_train, y_train) * 100, 2)\n",
    "acc_gaussian"
   ]
  },
  {
   "cell_type": "code",
   "execution_count": 36,
   "metadata": {
    "ExecuteTime": {
     "end_time": "2019-03-02T18:09:51.561015Z",
     "start_time": "2019-03-02T18:09:51.500174Z"
    }
   },
   "outputs": [
    {
     "name": "stdout",
     "output_type": "stream",
     "text": [
      "              precision    recall  f1-score   support\n",
      "\n",
      "           0       0.31      0.23      0.27       194\n",
      "           1       0.80      0.73      0.76       315\n",
      "           2       0.24      0.41      0.30       125\n",
      "           3       0.46      0.44      0.45       202\n",
      "\n",
      "   micro avg       0.49      0.49      0.49       836\n",
      "   macro avg       0.45      0.45      0.44       836\n",
      "weighted avg       0.52      0.49      0.50       836\n",
      "\n"
     ]
    }
   ],
   "source": [
    "print(classification_report(y_pred,y_test))"
   ]
  },
  {
   "cell_type": "code",
   "execution_count": 37,
   "metadata": {
    "ExecuteTime": {
     "end_time": "2019-03-02T18:09:51.626986Z",
     "start_time": "2019-03-02T18:09:51.562818Z"
    }
   },
   "outputs": [
    {
     "data": {
      "text/plain": [
       "array([[ 45,  33,  55,  61],\n",
       "       [ 37, 229,  34,  15],\n",
       "       [ 30,  18,  51,  26],\n",
       "       [ 31,   6,  77,  88]])"
      ]
     },
     "execution_count": 37,
     "metadata": {},
     "output_type": "execute_result"
    }
   ],
   "source": [
    "confusion_matrix(y_pred,y_test)"
   ]
  },
  {
   "cell_type": "code",
   "execution_count": 38,
   "metadata": {
    "ExecuteTime": {
     "end_time": "2019-03-02T18:09:51.692098Z",
     "start_time": "2019-03-02T18:09:51.628558Z"
    }
   },
   "outputs": [
    {
     "name": "stdout",
     "output_type": "stream",
     "text": [
      "Accuracy of the Model: 49.4\n"
     ]
    }
   ],
   "source": [
    "aa_gnb = round(accuracy_score(y_pred,y_test)*100,2)\n",
    "print('Accuracy of the Model:',aa_gnb)"
   ]
  },
  {
   "cell_type": "markdown",
   "metadata": {},
   "source": [
    "### 3. Applying SVM Model"
   ]
  },
  {
   "cell_type": "code",
   "execution_count": 39,
   "metadata": {
    "ExecuteTime": {
     "end_time": "2019-03-02T18:09:52.058980Z",
     "start_time": "2019-03-02T18:09:51.693929Z"
    }
   },
   "outputs": [
    {
     "data": {
      "text/plain": [
       "56.21"
      ]
     },
     "execution_count": 39,
     "metadata": {},
     "output_type": "execute_result"
    }
   ],
   "source": [
    "svc = SVC(kernel='linear',gamma = 560)\n",
    "svc.fit(X_train, y_train)\n",
    "Y_pred = svc.predict(X_test)\n",
    "acc_svc = round(svc.score(X_train, y_train) * 100, 2)\n",
    "acc_svc"
   ]
  },
  {
   "cell_type": "code",
   "execution_count": 40,
   "metadata": {
    "ExecuteTime": {
     "end_time": "2019-03-02T18:09:52.066269Z",
     "start_time": "2019-03-02T18:09:52.060645Z"
    }
   },
   "outputs": [
    {
     "name": "stdout",
     "output_type": "stream",
     "text": [
      "              precision    recall  f1-score   support\n",
      "\n",
      "           0       0.31      0.23      0.27       194\n",
      "           1       0.80      0.73      0.76       315\n",
      "           2       0.24      0.41      0.30       125\n",
      "           3       0.46      0.44      0.45       202\n",
      "\n",
      "   micro avg       0.49      0.49      0.49       836\n",
      "   macro avg       0.45      0.45      0.44       836\n",
      "weighted avg       0.52      0.49      0.50       836\n",
      "\n"
     ]
    }
   ],
   "source": [
    "print(classification_report(y_pred,y_test))"
   ]
  },
  {
   "cell_type": "code",
   "execution_count": 41,
   "metadata": {
    "ExecuteTime": {
     "end_time": "2019-03-02T18:09:52.217893Z",
     "start_time": "2019-03-02T18:09:52.068363Z"
    }
   },
   "outputs": [
    {
     "data": {
      "text/plain": [
       "array([[ 45,  33,  55,  61],\n",
       "       [ 37, 229,  34,  15],\n",
       "       [ 30,  18,  51,  26],\n",
       "       [ 31,   6,  77,  88]])"
      ]
     },
     "execution_count": 41,
     "metadata": {},
     "output_type": "execute_result"
    }
   ],
   "source": [
    "confusion_matrix(y_pred,y_test)"
   ]
  },
  {
   "cell_type": "code",
   "execution_count": 42,
   "metadata": {
    "ExecuteTime": {
     "end_time": "2019-03-02T18:09:52.292089Z",
     "start_time": "2019-03-02T18:09:52.219787Z"
    }
   },
   "outputs": [
    {
     "name": "stdout",
     "output_type": "stream",
     "text": [
      "Accuracy of the Model: 55.02\n"
     ]
    }
   ],
   "source": [
    "aa_svm = round(accuracy_score(Y_pred,y_test)*100,2)\n",
    "print('Accuracy of the Model:',aa_svm)"
   ]
  },
  {
   "cell_type": "markdown",
   "metadata": {},
   "source": [
    "## Best Classification Model for Age Prediction"
   ]
  },
  {
   "cell_type": "code",
   "execution_count": 43,
   "metadata": {
    "ExecuteTime": {
     "end_time": "2019-03-02T18:09:52.363630Z",
     "start_time": "2019-03-02T18:09:52.293956Z"
    }
   },
   "outputs": [
    {
     "data": {
      "text/html": [
       "<div>\n",
       "<style scoped>\n",
       "    .dataframe tbody tr th:only-of-type {\n",
       "        vertical-align: middle;\n",
       "    }\n",
       "\n",
       "    .dataframe tbody tr th {\n",
       "        vertical-align: top;\n",
       "    }\n",
       "\n",
       "    .dataframe thead th {\n",
       "        text-align: right;\n",
       "    }\n",
       "</style>\n",
       "<table border=\"1\" class=\"dataframe\">\n",
       "  <thead>\n",
       "    <tr style=\"text-align: right;\">\n",
       "      <th></th>\n",
       "      <th>Model</th>\n",
       "      <th>A_Score</th>\n",
       "      <th>Model_Acc_A</th>\n",
       "    </tr>\n",
       "  </thead>\n",
       "  <tbody>\n",
       "    <tr>\n",
       "      <th>1</th>\n",
       "      <td>KNN</td>\n",
       "      <td>74.17</td>\n",
       "      <td>46.53</td>\n",
       "    </tr>\n",
       "    <tr>\n",
       "      <th>0</th>\n",
       "      <td>SVM</td>\n",
       "      <td>56.21</td>\n",
       "      <td>55.02</td>\n",
       "    </tr>\n",
       "    <tr>\n",
       "      <th>2</th>\n",
       "      <td>Naive Bayes</td>\n",
       "      <td>48.52</td>\n",
       "      <td>49.40</td>\n",
       "    </tr>\n",
       "  </tbody>\n",
       "</table>\n",
       "</div>"
      ],
      "text/plain": [
       "         Model  A_Score  Model_Acc_A\n",
       "1          KNN    74.17        46.53\n",
       "0          SVM    56.21        55.02\n",
       "2  Naive Bayes    48.52        49.40"
      ]
     },
     "execution_count": 43,
     "metadata": {},
     "output_type": "execute_result"
    }
   ],
   "source": [
    "age_models = pd.DataFrame({\n",
    "    'Model': ['SVM', 'KNN', 'Naive Bayes'],\n",
    "    'A_Score': [acc_svc, acc_knn, acc_gaussian],\n",
    "    'Model_Acc_A':[aa_svm,aa_knn,aa_gnb]\n",
    "})\n",
    "age_models.sort_values(by='A_Score', ascending=False)"
   ]
  },
  {
   "cell_type": "markdown",
   "metadata": {},
   "source": [
    "KNN and SVM is clearly the best model with 80% model score and accuracy rate which is pretty good at best."
   ]
  },
  {
   "cell_type": "markdown",
   "metadata": {
    "ExecuteTime": {
     "end_time": "2019-03-01T12:52:11.710793Z",
     "start_time": "2019-03-01T12:52:11.636519Z"
    }
   },
   "source": [
    "# <br><br><br>2. Gender Prediction:\n"
   ]
  },
  {
   "cell_type": "code",
   "execution_count": 44,
   "metadata": {
    "ExecuteTime": {
     "end_time": "2019-03-02T18:09:52.426236Z",
     "start_time": "2019-03-02T18:09:52.365509Z"
    }
   },
   "outputs": [],
   "source": [
    "ds2 = ds1.drop(['Sex_M','Sex_F','Sex_I'], axis = 1)\n",
    "ds2['sex'] = ds.sex"
   ]
  },
  {
   "cell_type": "markdown",
   "metadata": {},
   "source": [
    "## Splitting DataSet for Gender Prediction "
   ]
  },
  {
   "cell_type": "code",
   "execution_count": 45,
   "metadata": {
    "ExecuteTime": {
     "end_time": "2019-03-02T18:09:52.495200Z",
     "start_time": "2019-03-02T18:09:52.427951Z"
    }
   },
   "outputs": [],
   "source": [
    "X = ds2.drop(['sex'], axis = 1)\n",
    "y = ds2['sex']\n",
    "dictionary = {'M':1,'F':2,'I':0}\n",
    "y = y.map(dictionary)\n",
    "X.rings = X.rings.fillna(X.rings.median())\n",
    "X.rings = X.rings.astype(int)\n",
    "\n",
    "X_train,X_test,y_train,y_test = train_test_split(X,y, test_size = 0.2,random_state=10)"
   ]
  },
  {
   "cell_type": "code",
   "execution_count": null,
   "metadata": {
    "ExecuteTime": {
     "end_time": "2019-03-02T18:06:21.329016Z",
     "start_time": "2019-03-02T18:06:21.320680Z"
    }
   },
   "outputs": [],
   "source": []
  },
  {
   "cell_type": "code",
   "execution_count": null,
   "metadata": {
    "ExecuteTime": {
     "end_time": "2019-03-02T18:00:59.520250Z",
     "start_time": "2019-03-02T18:00:59.516528Z"
    }
   },
   "outputs": [],
   "source": []
  },
  {
   "cell_type": "markdown",
   "metadata": {},
   "source": [
    "### 1. Applying SVM Model"
   ]
  },
  {
   "cell_type": "code",
   "execution_count": 46,
   "metadata": {
    "ExecuteTime": {
     "end_time": "2019-03-02T18:09:52.893401Z",
     "start_time": "2019-03-02T18:09:52.496809Z"
    }
   },
   "outputs": [
    {
     "data": {
      "text/plain": [
       "54.24"
      ]
     },
     "execution_count": 46,
     "metadata": {},
     "output_type": "execute_result"
    }
   ],
   "source": [
    "svc = SVC(kernel='linear',gamma = \"auto\")\n",
    "svc.fit(X_train, y_train)\n",
    "Y_pred = svc.predict(X_test)\n",
    "acc_svc = round(svc.score(X_train, y_train) * 100, 2) \n",
    "acc_svc"
   ]
  },
  {
   "cell_type": "code",
   "execution_count": 47,
   "metadata": {
    "ExecuteTime": {
     "end_time": "2019-03-02T18:09:52.901897Z",
     "start_time": "2019-03-02T18:09:52.895113Z"
    },
    "scrolled": false
   },
   "outputs": [
    {
     "name": "stdout",
     "output_type": "stream",
     "text": [
      "              precision    recall  f1-score   support\n",
      "\n",
      "           0       0.15      0.21      0.17       194\n",
      "           1       0.17      0.16      0.17       315\n",
      "           2       0.07      0.15      0.10       125\n",
      "           3       0.00      0.00      0.00       202\n",
      "\n",
      "   micro avg       0.13      0.13      0.13       836\n",
      "   macro avg       0.10      0.13      0.11       836\n",
      "weighted avg       0.11      0.13      0.12       836\n",
      "\n"
     ]
    }
   ],
   "source": [
    "print(classification_report(y_pred,y_test))"
   ]
  },
  {
   "cell_type": "code",
   "execution_count": null,
   "metadata": {
    "ExecuteTime": {
     "end_time": "2019-03-02T18:03:42.374171Z",
     "start_time": "2019-03-02T18:03:42.285794Z"
    },
    "scrolled": false
   },
   "outputs": [],
   "source": []
  },
  {
   "cell_type": "code",
   "execution_count": 48,
   "metadata": {
    "ExecuteTime": {
     "end_time": "2019-03-02T18:09:53.037836Z",
     "start_time": "2019-03-02T18:09:52.903720Z"
    }
   },
   "outputs": [
    {
     "data": {
      "text/plain": [
       "array([[230,  71,  57],\n",
       "       [ 40, 230, 208],\n",
       "       [  0,   0,   0]])"
      ]
     },
     "execution_count": 48,
     "metadata": {},
     "output_type": "execute_result"
    }
   ],
   "source": [
    "confusion_matrix(Y_pred,y_test)"
   ]
  },
  {
   "cell_type": "code",
   "execution_count": 49,
   "metadata": {
    "ExecuteTime": {
     "end_time": "2019-03-02T18:09:53.114536Z",
     "start_time": "2019-03-02T18:09:53.039267Z"
    }
   },
   "outputs": [
    {
     "name": "stdout",
     "output_type": "stream",
     "text": [
      "Accuracy of the Model: 55.02\n"
     ]
    }
   ],
   "source": [
    "ga_svm = round(accuracy_score(Y_pred,y_test)*100,2)\n",
    "print('Accuracy of the Model:',ga_svm)"
   ]
  },
  {
   "cell_type": "markdown",
   "metadata": {},
   "source": [
    "### 2. Applying Gaussian Naive Bayes Model"
   ]
  },
  {
   "cell_type": "code",
   "execution_count": 50,
   "metadata": {
    "ExecuteTime": {
     "end_time": "2019-03-02T18:09:53.196488Z",
     "start_time": "2019-03-02T18:09:53.116125Z"
    }
   },
   "outputs": [
    {
     "data": {
      "text/plain": [
       "51.39"
      ]
     },
     "execution_count": 50,
     "metadata": {},
     "output_type": "execute_result"
    }
   ],
   "source": [
    "gaussian = GaussianNB()\n",
    "gaussian.fit(X_train, y_train)\n",
    "y_pred = gaussian.predict(X_test)\n",
    "acc_gaussian = round(gaussian.score(X_train, y_train) * 100, 2)\n",
    "acc_gaussian"
   ]
  },
  {
   "cell_type": "code",
   "execution_count": 51,
   "metadata": {
    "ExecuteTime": {
     "end_time": "2019-03-02T18:09:53.290635Z",
     "start_time": "2019-03-02T18:09:53.197818Z"
    }
   },
   "outputs": [
    {
     "name": "stdout",
     "output_type": "stream",
     "text": [
      "              precision    recall  f1-score   support\n",
      "\n",
      "           0       0.84      0.62      0.71       367\n",
      "           1       0.14      0.50      0.22        86\n",
      "           2       0.66      0.46      0.54       383\n",
      "\n",
      "   micro avg       0.53      0.53      0.53       836\n",
      "   macro avg       0.55      0.52      0.49       836\n",
      "weighted avg       0.68      0.53      0.58       836\n",
      "\n"
     ]
    }
   ],
   "source": [
    "print(classification_report(y_pred,y_test))"
   ]
  },
  {
   "cell_type": "code",
   "execution_count": 52,
   "metadata": {
    "ExecuteTime": {
     "end_time": "2019-03-02T18:09:53.360328Z",
     "start_time": "2019-03-02T18:09:53.292059Z"
    }
   },
   "outputs": [
    {
     "data": {
      "text/plain": [
       "array([[226,  78,  63],\n",
       "       [ 16,  43,  27],\n",
       "       [ 28, 180, 175]])"
      ]
     },
     "execution_count": 52,
     "metadata": {},
     "output_type": "execute_result"
    }
   ],
   "source": [
    "confusion_matrix(y_pred,y_test)"
   ]
  },
  {
   "cell_type": "code",
   "execution_count": 53,
   "metadata": {
    "ExecuteTime": {
     "end_time": "2019-03-02T18:09:53.436680Z",
     "start_time": "2019-03-02T18:09:53.361584Z"
    }
   },
   "outputs": [
    {
     "name": "stdout",
     "output_type": "stream",
     "text": [
      "Accuracy of the Model: 55.02\n"
     ]
    }
   ],
   "source": [
    "ga_gnb = round(accuracy_score(Y_pred,y_test)*100,2)\n",
    "print('Accuracy of the Model:',ga_gnb)"
   ]
  },
  {
   "cell_type": "markdown",
   "metadata": {},
   "source": [
    "### 3. Applying KNN Model"
   ]
  },
  {
   "cell_type": "code",
   "execution_count": 54,
   "metadata": {
    "ExecuteTime": {
     "end_time": "2019-03-02T18:09:53.552448Z",
     "start_time": "2019-03-02T18:09:53.438059Z"
    }
   },
   "outputs": [
    {
     "data": {
      "text/plain": [
       "73.18"
      ]
     },
     "execution_count": 54,
     "metadata": {},
     "output_type": "execute_result"
    }
   ],
   "source": [
    "knn = KNeighborsClassifier(n_neighbors = 3)\n",
    "knn.fit(X_train, y_train)\n",
    "y_pred = knn.predict(X_test)\n",
    "acc_knn = round(knn.score(X_train, y_train) * 100, 2)\n",
    "acc_knn"
   ]
  },
  {
   "cell_type": "code",
   "execution_count": 55,
   "metadata": {
    "ExecuteTime": {
     "end_time": "2019-03-02T18:09:53.594383Z",
     "start_time": "2019-03-02T18:09:53.553951Z"
    }
   },
   "outputs": [
    {
     "name": "stdout",
     "output_type": "stream",
     "text": [
      "              precision    recall  f1-score   support\n",
      "\n",
      "           0       0.79      0.62      0.70       345\n",
      "           1       0.42      0.48      0.45       264\n",
      "           2       0.40      0.47      0.43       227\n",
      "\n",
      "   micro avg       0.53      0.53      0.53       836\n",
      "   macro avg       0.54      0.52      0.52       836\n",
      "weighted avg       0.57      0.53      0.55       836\n",
      "\n"
     ]
    }
   ],
   "source": [
    "print(classification_report(y_pred,y_test))"
   ]
  },
  {
   "cell_type": "code",
   "execution_count": 56,
   "metadata": {
    "ExecuteTime": {
     "end_time": "2019-03-02T18:09:53.671531Z",
     "start_time": "2019-03-02T18:09:53.595924Z"
    }
   },
   "outputs": [
    {
     "data": {
      "text/plain": [
       "array([[214,  76,  55],\n",
       "       [ 34, 126, 104],\n",
       "       [ 22,  99, 106]])"
      ]
     },
     "execution_count": 56,
     "metadata": {},
     "output_type": "execute_result"
    }
   ],
   "source": [
    "confusion_matrix(y_pred,y_test)"
   ]
  },
  {
   "cell_type": "code",
   "execution_count": 57,
   "metadata": {
    "ExecuteTime": {
     "end_time": "2019-03-02T18:09:53.747607Z",
     "start_time": "2019-03-02T18:09:53.673413Z"
    }
   },
   "outputs": [
    {
     "name": "stdout",
     "output_type": "stream",
     "text": [
      "Accuracy of the Model: 53.34928229665071\n"
     ]
    }
   ],
   "source": [
    "ga_knn = accuracy_score(y_pred,y_test)*100\n",
    "print('Accuracy of the Model:',ga_knn)"
   ]
  },
  {
   "cell_type": "markdown",
   "metadata": {},
   "source": [
    "## Best Classification Model for Gender Prediction"
   ]
  },
  {
   "cell_type": "code",
   "execution_count": 58,
   "metadata": {
    "ExecuteTime": {
     "end_time": "2019-03-02T18:09:53.830292Z",
     "start_time": "2019-03-02T18:09:53.748863Z"
    }
   },
   "outputs": [
    {
     "data": {
      "text/html": [
       "<div>\n",
       "<style scoped>\n",
       "    .dataframe tbody tr th:only-of-type {\n",
       "        vertical-align: middle;\n",
       "    }\n",
       "\n",
       "    .dataframe tbody tr th {\n",
       "        vertical-align: top;\n",
       "    }\n",
       "\n",
       "    .dataframe thead th {\n",
       "        text-align: right;\n",
       "    }\n",
       "</style>\n",
       "<table border=\"1\" class=\"dataframe\">\n",
       "  <thead>\n",
       "    <tr style=\"text-align: right;\">\n",
       "      <th></th>\n",
       "      <th>Model</th>\n",
       "      <th>G_Score</th>\n",
       "      <th>Model_Acc_G</th>\n",
       "    </tr>\n",
       "  </thead>\n",
       "  <tbody>\n",
       "    <tr>\n",
       "      <th>1</th>\n",
       "      <td>KNN</td>\n",
       "      <td>73.18</td>\n",
       "      <td>53.349282</td>\n",
       "    </tr>\n",
       "    <tr>\n",
       "      <th>0</th>\n",
       "      <td>SVM</td>\n",
       "      <td>54.24</td>\n",
       "      <td>55.020000</td>\n",
       "    </tr>\n",
       "    <tr>\n",
       "      <th>2</th>\n",
       "      <td>Naive Bayes</td>\n",
       "      <td>51.39</td>\n",
       "      <td>55.020000</td>\n",
       "    </tr>\n",
       "  </tbody>\n",
       "</table>\n",
       "</div>"
      ],
      "text/plain": [
       "         Model  G_Score  Model_Acc_G\n",
       "1          KNN    73.18    53.349282\n",
       "0          SVM    54.24    55.020000\n",
       "2  Naive Bayes    51.39    55.020000"
      ]
     },
     "execution_count": 58,
     "metadata": {},
     "output_type": "execute_result"
    }
   ],
   "source": [
    "gender_models = pd.DataFrame({\n",
    "    'Model': ['SVM', 'KNN', 'Naive Bayes'],\n",
    "    'G_Score': [acc_svc, acc_knn, acc_gaussian],\n",
    "    'Model_Acc_G':[ga_svm,ga_knn,ga_gnb]\n",
    "})\n",
    "gender_models.sort_values(by='G_Score', ascending=False)"
   ]
  },
  {
   "cell_type": "markdown",
   "metadata": {},
   "source": [
    "SVM and Naive Bayes are clearly the average Models with 53% accuracy which are pretty average at best.\n",
    "KNN is better than SVM and Naive Bayes with less score but more accurate than these two."
   ]
  },
  {
   "cell_type": "markdown",
   "metadata": {},
   "source": [
    "# <br><br><br><br> Conclusion"
   ]
  },
  {
   "cell_type": "code",
   "execution_count": 59,
   "metadata": {
    "ExecuteTime": {
     "end_time": "2019-03-02T18:09:53.909945Z",
     "start_time": "2019-03-02T18:09:53.831781Z"
    }
   },
   "outputs": [
    {
     "data": {
      "text/html": [
       "<div>\n",
       "<style scoped>\n",
       "    .dataframe tbody tr th:only-of-type {\n",
       "        vertical-align: middle;\n",
       "    }\n",
       "\n",
       "    .dataframe tbody tr th {\n",
       "        vertical-align: top;\n",
       "    }\n",
       "\n",
       "    .dataframe thead th {\n",
       "        text-align: right;\n",
       "    }\n",
       "</style>\n",
       "<table border=\"1\" class=\"dataframe\">\n",
       "  <thead>\n",
       "    <tr style=\"text-align: right;\">\n",
       "      <th></th>\n",
       "      <th>Model</th>\n",
       "      <th>A_Score</th>\n",
       "      <th>Model_Acc_A</th>\n",
       "      <th>G_Score</th>\n",
       "      <th>Model_Acc_G</th>\n",
       "    </tr>\n",
       "  </thead>\n",
       "  <tbody>\n",
       "    <tr>\n",
       "      <th>0</th>\n",
       "      <td>SVM</td>\n",
       "      <td>56.21</td>\n",
       "      <td>55.02</td>\n",
       "      <td>54.24</td>\n",
       "      <td>55.020000</td>\n",
       "    </tr>\n",
       "    <tr>\n",
       "      <th>1</th>\n",
       "      <td>KNN</td>\n",
       "      <td>74.17</td>\n",
       "      <td>46.53</td>\n",
       "      <td>73.18</td>\n",
       "      <td>53.349282</td>\n",
       "    </tr>\n",
       "    <tr>\n",
       "      <th>2</th>\n",
       "      <td>Naive Bayes</td>\n",
       "      <td>48.52</td>\n",
       "      <td>49.40</td>\n",
       "      <td>51.39</td>\n",
       "      <td>55.020000</td>\n",
       "    </tr>\n",
       "  </tbody>\n",
       "</table>\n",
       "</div>"
      ],
      "text/plain": [
       "         Model  A_Score  Model_Acc_A  G_Score  Model_Acc_G\n",
       "0          SVM    56.21        55.02    54.24    55.020000\n",
       "1          KNN    74.17        46.53    73.18    53.349282\n",
       "2  Naive Bayes    48.52        49.40    51.39    55.020000"
      ]
     },
     "execution_count": 59,
     "metadata": {},
     "output_type": "execute_result"
    }
   ],
   "source": [
    "m = pd.merge(age_models,gender_models,on='Model')\n",
    "m"
   ]
  },
  {
   "cell_type": "markdown",
   "metadata": {},
   "source": [
    "The SVM model is clearly the best model for both Age and KNN is best model for Gender Prediction. The score for the model is about 79%(KNN) and 87%(SVM) for Age and Gender respectively which is pretty good. However, the KNN model is the average model in this case. The accuracy of the model is about 56% and 51% for Age and Gender respectively. The Naive Bayes is also the average but the poor model for both predictions."
   ]
  }
 ],
 "metadata": {
  "kernelspec": {
   "display_name": "Python 3",
   "language": "python",
   "name": "python3"
  },
  "language_info": {
   "codemirror_mode": {
    "name": "ipython",
    "version": 3
   },
   "file_extension": ".py",
   "mimetype": "text/x-python",
   "name": "python",
   "nbconvert_exporter": "python",
   "pygments_lexer": "ipython3",
   "version": "3.6.8"
  }
 },
 "nbformat": 4,
 "nbformat_minor": 2
}
