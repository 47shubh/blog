{
 "cells": [
  {
   "cell_type": "markdown",
   "metadata": {},
   "source": [
    "## NAME : Shubham Kumar\n",
    "## PRN : 18030142032"
   ]
  },
  {
   "cell_type": "code",
   "execution_count": 1,
   "metadata": {
    "collapsed": true
   },
   "outputs": [],
   "source": [
    "import numpy as np\n",
    "import pandas as pd\n",
    "from numpy import dot\n",
    "from numpy.linalg import norm"
   ]
  },
  {
   "cell_type": "code",
   "execution_count": 2,
   "metadata": {
    "collapsed": true
   },
   "outputs": [],
   "source": [
    "def cos_sim(a,b):\n",
    "    return (dot(a, b)/(norm(a)*norm(b)))"
   ]
  },
  {
   "cell_type": "code",
   "execution_count": 3,
   "metadata": {
    "collapsed": false
   },
   "outputs": [
    {
     "name": "stdout",
     "output_type": "stream",
     "text": [
      "Loaded 400000 word vectors.\n"
     ]
    }
   ],
   "source": [
    "# load the whole embedding into memory\n",
    "embeddings_index = dict()\n",
    "with open('./glove/glove.6B.300d.txt', encoding='UTF-8') as f:\n",
    "    for line in f:\n",
    "        values = line.split()\n",
    "        word = values[0]\n",
    "        coefs = np.asarray(values[1:], dtype='float32')\n",
    "        embeddings_index[word] = coefs\n",
    "print('Loaded %s word vectors.' % len(embeddings_index))"
   ]
  },
  {
   "cell_type": "markdown",
   "metadata": {},
   "source": [
    "Implement Cosine Similarity and find top 10 nearest words to following words:\n",
    "\n",
    "1. wikipedia\n",
    "\n",
    "2. software\n",
    "\n",
    "3. jupiter\n",
    "\n",
    "4. wise"
   ]
  },
  {
   "cell_type": "code",
   "execution_count": 4,
   "metadata": {
    "collapsed": false
   },
   "outputs": [
    {
     "data": {
      "text/html": [
       "<div>\n",
       "<style scoped>\n",
       "    .dataframe tbody tr th:only-of-type {\n",
       "        vertical-align: middle;\n",
       "    }\n",
       "\n",
       "    .dataframe tbody tr th {\n",
       "        vertical-align: top;\n",
       "    }\n",
       "\n",
       "    .dataframe thead th {\n",
       "        text-align: right;\n",
       "    }\n",
       "</style>\n",
       "<table border=\"1\" class=\"dataframe\">\n",
       "  <thead>\n",
       "    <tr style=\"text-align: right;\">\n",
       "      <th></th>\n",
       "      <th>jupiter</th>\n",
       "      <th>software</th>\n",
       "      <th>wikipedia</th>\n",
       "      <th>wise</th>\n",
       "    </tr>\n",
       "  </thead>\n",
       "  <tbody>\n",
       "    <tr>\n",
       "      <th>retards</th>\n",
       "      <td>-0.072850</td>\n",
       "      <td>-0.050561</td>\n",
       "      <td>0.014347</td>\n",
       "      <td>-0.099737</td>\n",
       "    </tr>\n",
       "    <tr>\n",
       "      <th>couverture</th>\n",
       "      <td>-0.064357</td>\n",
       "      <td>-0.048588</td>\n",
       "      <td>0.041070</td>\n",
       "      <td>0.016709</td>\n",
       "    </tr>\n",
       "    <tr>\n",
       "      <th>gniezno</th>\n",
       "      <td>0.077560</td>\n",
       "      <td>-0.086342</td>\n",
       "      <td>-0.002990</td>\n",
       "      <td>0.016676</td>\n",
       "    </tr>\n",
       "    <tr>\n",
       "      <th>munsell</th>\n",
       "      <td>0.048769</td>\n",
       "      <td>-0.035730</td>\n",
       "      <td>0.028659</td>\n",
       "      <td>-0.032362</td>\n",
       "    </tr>\n",
       "    <tr>\n",
       "      <th>ravensbrueck</th>\n",
       "      <td>-0.011656</td>\n",
       "      <td>-0.108046</td>\n",
       "      <td>-0.008946</td>\n",
       "      <td>-0.077876</td>\n",
       "    </tr>\n",
       "  </tbody>\n",
       "</table>\n",
       "</div>"
      ],
      "text/plain": [
       "               jupiter  software  wikipedia      wise\n",
       "retards      -0.072850 -0.050561   0.014347 -0.099737\n",
       "couverture   -0.064357 -0.048588   0.041070  0.016709\n",
       "gniezno       0.077560 -0.086342  -0.002990  0.016676\n",
       "munsell       0.048769 -0.035730   0.028659 -0.032362\n",
       "ravensbrueck -0.011656 -0.108046  -0.008946 -0.077876"
      ]
     },
     "execution_count": 4,
     "metadata": {},
     "output_type": "execute_result"
    }
   ],
   "source": [
    "# Generating Cosine Similarities for all given words and adding it to dataframe\n",
    "dct = {t:[cos_sim(embeddings_index.get(t),embeddings_index.get(w)) \n",
    "          for w in list(embeddings_index.keys())] for t in ['wikipedia','software','jupiter','wise']}\n",
    "df = pd.DataFrame(dct,index=list(embeddings_index.keys()))\n",
    "df.head()"
   ]
  },
  {
   "cell_type": "code",
   "execution_count": 5,
   "metadata": {
    "collapsed": false
   },
   "outputs": [
    {
     "name": "stdout",
     "output_type": "stream",
     "text": [
      "Words similar to Wise:  ['foolish', 'prudent', 'smart', 'shrewd', 'advice', 'good', 'savvy', 'intelligent', 'sensible', 'thoughtful']\n",
      "\n",
      "Words similar to Software:  ['computer', 'microsoft', 'hardware', 'computers', 'internet', 'server', 'pc', 'users', 'systems', 'desktop']\n",
      "\n",
      "Words similar to Jupiter:  ['moons', 'planets', 'uranus', 'planet', 'saturn', 'neptune', 'mars', 'comet', 'io', 'orbits']\n",
      "\n",
      "Words similar to Wikipedia:  ['encyclopedia', 'wikimedia', 'wiki', 'facebook', 'blog', 'conservapedia', 'youtube', 'britannica', 'websites', 'blogs']\n"
     ]
    }
   ],
   "source": [
    "print(\"Words similar to Wise: \",list(df.sort_values(['wise'],ascending=False)[1:11].index),end='\\n\\n')\n",
    "print(\"Words similar to Software: \",list(df.sort_values(['software'],ascending=False)[1:11].index),end='\\n\\n')\n",
    "print(\"Words similar to Jupiter: \",list(df.sort_values(['jupiter'],ascending=False)[1:11].index),end='\\n\\n')\n",
    "print(\"Words similar to Wikipedia: \",list(df.sort_values(['wikipedia'],ascending=False)[1:11].index))"
   ]
  },
  {
   "cell_type": "code",
   "execution_count": null,
   "metadata": {
    "collapsed": false
   },
   "outputs": [],
   "source": []
  },
  {
   "cell_type": "code",
   "execution_count": null,
   "metadata": {
    "collapsed": false
   },
   "outputs": [],
   "source": []
  },
  {
   "cell_type": "code",
   "execution_count": null,
   "metadata": {
    "collapsed": false
   },
   "outputs": [],
   "source": []
  },
  {
   "cell_type": "code",
   "execution_count": null,
   "metadata": {
    "collapsed": false
   },
   "outputs": [],
   "source": []
  },
  {
   "cell_type": "code",
   "execution_count": null,
   "metadata": {
    "collapsed": false
   },
   "outputs": [],
   "source": []
  },
  {
   "cell_type": "code",
   "execution_count": null,
   "metadata": {
    "collapsed": false
   },
   "outputs": [],
   "source": []
  },
  {
   "cell_type": "code",
   "execution_count": null,
   "metadata": {
    "collapsed": false
   },
   "outputs": [],
   "source": []
  },
  {
   "cell_type": "code",
   "execution_count": null,
   "metadata": {
    "collapsed": false
   },
   "outputs": [],
   "source": []
  },
  {
   "cell_type": "code",
   "execution_count": null,
   "metadata": {
    "collapsed": false
   },
   "outputs": [],
   "source": []
  },
  {
   "cell_type": "code",
   "execution_count": null,
   "metadata": {
    "collapsed": false
   },
   "outputs": [],
   "source": []
  },
  {
   "cell_type": "code",
   "execution_count": null,
   "metadata": {
    "collapsed": true
   },
   "outputs": [],
   "source": []
  }
 ],
 "metadata": {
  "anaconda-cloud": {},
  "kernelspec": {
   "display_name": "Python [default]",
   "language": "python",
   "name": "python3"
  },
  "language_info": {
   "codemirror_mode": {
    "name": "ipython",
    "version": 3
   },
   "file_extension": ".py",
   "mimetype": "text/x-python",
   "name": "python",
   "nbconvert_exporter": "python",
   "pygments_lexer": "ipython3",
   "version": "3.5.2"
  }
 },
 "nbformat": 4,
 "nbformat_minor": 2
}
