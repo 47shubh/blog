{
 "cells": [
  {
   "cell_type": "code",
   "execution_count": 1,
   "metadata": {
    "ExecuteTime": {
     "end_time": "2019-02-08T13:22:55.560694Z",
     "start_time": "2019-02-08T13:22:55.556204Z"
    }
   },
   "outputs": [
    {
     "name": "stderr",
     "output_type": "stream",
     "text": [
      "Using TensorFlow backend.\n"
     ]
    }
   ],
   "source": [
    "from keras.models import Sequential\n",
    "from keras.layers.normalization import BatchNormalization\n",
    "from keras.layers.convolutional import Convolution2D, MaxPooling2D, ZeroPadding2D\n",
    "from keras.layers.core import Activation, Flatten, Dropout, Dense\n",
    "from keras.constraints import maxnorm\n",
    "from keras import backend as K\n",
    "from sklearn.preprocessing import LabelBinarizer\n",
    "from sklearn.model_selection import train_test_split\n",
    "from sklearn.metrics import classification_report\n",
    "from keras.preprocessing.image import ImageDataGenerator\n",
    "from keras.optimizers import SGD\n",
    "from imutils import paths\n",
    "import matplotlib.pyplot as plt\n",
    "import numpy as np\n",
    "import argparse, random, pickle, cv2, os, matplotlib\n",
    "matplotlib.use(\"Agg\")\n",
    "%matplotlib inline"
   ]
  },
  {
   "cell_type": "code",
   "execution_count": 2,
   "metadata": {
    "ExecuteTime": {
     "end_time": "2019-02-08T13:22:55.670216Z",
     "start_time": "2019-02-08T13:22:55.586489Z"
    }
   },
   "outputs": [],
   "source": [
    "datagen = ImageDataGenerator()\n",
    "data = []\n",
    "labels = []"
   ]
  },
  {
   "cell_type": "code",
   "execution_count": 3,
   "metadata": {
    "ExecuteTime": {
     "end_time": "2019-02-08T13:22:55.781166Z",
     "start_time": "2019-02-08T13:22:55.673097Z"
    }
   },
   "outputs": [],
   "source": [
    "imagePaths = sorted(list(paths.list_images('./images')))\n",
    "random.seed(42)\n",
    "random.shuffle(imagePaths)"
   ]
  },
  {
   "cell_type": "markdown",
   "metadata": {},
   "source": [
    "## Argumentation, Resize, Flatten and append to data,label lists\n",
    "### Flattening: 64x64x3 = 12288"
   ]
  },
  {
   "cell_type": "code",
   "execution_count": null,
   "metadata": {
    "ExecuteTime": {
     "end_time": "2019-02-08T13:22:56.726503Z",
     "start_time": "2019-02-08T13:22:55.782858Z"
    }
   },
   "outputs": [],
   "source": []
  },
  {
   "cell_type": "code",
   "execution_count": 4,
   "metadata": {
    "ExecuteTime": {
     "end_time": "2019-02-08T12:38:10.205302Z",
     "start_time": "2019-02-08T12:38:10.198489Z"
    },
    "scrolled": false
   },
   "outputs": [],
   "source": [
    "for imagePath in imagePaths:\n",
    "    image = cv2.imread(imagePath)\n",
    "    image = cv2.resize(image, (64, 64))\n",
    "    data.append(image)\n",
    "    datagen.apply_transform(image,{'theta':20,'shear':20,'zx':0.2,'zy':0.2})\n",
    "    datagen.apply_transform(image,{'flip_horizontal':True})\n",
    "    datagen.apply_transform(image,{'zoom_rage':0.5})\n",
    "    data.append(image)\n",
    "    datagen.apply_transform(image,{'theta':25,'shear':25,'zx':0.2,'zy':0.2})\n",
    "    datagen.apply_transform(image,{'flip_vertical':True})\n",
    "    datagen.apply_transform(image,{'zoom_rage':0.5})\n",
    "    data.append(image)\n",
    "    label = imagePath.split(os.path.sep)[-2]\n",
    "    labels.append(label)\n",
    "    labels.append(label)\n",
    "    labels.append(label)"
   ]
  },
  {
   "cell_type": "code",
   "execution_count": 5,
   "metadata": {
    "ExecuteTime": {
     "end_time": "2019-02-08T13:22:56.731339Z",
     "start_time": "2019-02-08T13:22:56.728304Z"
    }
   },
   "outputs": [
    {
     "data": {
      "text/plain": [
       "(339, 339)"
      ]
     },
     "execution_count": 5,
     "metadata": {},
     "output_type": "execute_result"
    }
   ],
   "source": [
    "len(data),len(labels)"
   ]
  },
  {
   "cell_type": "markdown",
   "metadata": {},
   "source": [
    "## Scale the raw pixel intensities to the range [0, 1] from [0, 255]"
   ]
  },
  {
   "cell_type": "code",
   "execution_count": 6,
   "metadata": {
    "ExecuteTime": {
     "end_time": "2019-02-08T13:22:56.923707Z",
     "start_time": "2019-02-08T13:22:56.732511Z"
    }
   },
   "outputs": [],
   "source": [
    "data = np.array(data, dtype=\"float\") / 255.0\n",
    "labels = np.array(labels)"
   ]
  },
  {
   "cell_type": "markdown",
   "metadata": {},
   "source": [
    "## Train, Test split of 75, 25"
   ]
  },
  {
   "cell_type": "code",
   "execution_count": 7,
   "metadata": {
    "ExecuteTime": {
     "end_time": "2019-02-08T13:22:57.043014Z",
     "start_time": "2019-02-08T13:22:56.926260Z"
    }
   },
   "outputs": [],
   "source": [
    "(trainX, testX, trainY, testY) = train_test_split(data,labels, test_size=0.25, random_state=42)"
   ]
  },
  {
   "cell_type": "code",
   "execution_count": 8,
   "metadata": {
    "ExecuteTime": {
     "start_time": "2019-02-08T13:22:56.005Z"
    }
   },
   "outputs": [],
   "source": [
    "lb = LabelBinarizer()\n",
    "trainY = lb.fit_transform(trainY)\n",
    "testY = lb.transform(testY)"
   ]
  },
  {
   "cell_type": "code",
   "execution_count": 9,
   "metadata": {
    "ExecuteTime": {
     "start_time": "2019-02-08T13:22:56.036Z"
    }
   },
   "outputs": [
    {
     "name": "stdout",
     "output_type": "stream",
     "text": [
      "_________________________________________________________________\n",
      "Layer (type)                 Output Shape              Param #   \n",
      "=================================================================\n",
      "zero_padding2d_1 (ZeroPaddin (None, 68, 68, 3)         0         \n",
      "_________________________________________________________________\n",
      "conv2d_1 (Conv2D)            (None, 68, 68, 64)        1792      \n",
      "_________________________________________________________________\n",
      "batch_normalization_1 (Batch (None, 68, 68, 64)        256       \n",
      "_________________________________________________________________\n",
      "max_pooling2d_1 (MaxPooling2 (None, 33, 33, 64)        0         \n",
      "_________________________________________________________________\n",
      "conv2d_2 (Conv2D)            (None, 33, 33, 128)       73856     \n",
      "_________________________________________________________________\n",
      "batch_normalization_2 (Batch (None, 33, 33, 128)       512       \n",
      "_________________________________________________________________\n",
      "dropout_1 (Dropout)          (None, 33, 33, 128)       0         \n",
      "_________________________________________________________________\n",
      "conv2d_3 (Conv2D)            (None, 33, 33, 128)       147584    \n",
      "_________________________________________________________________\n",
      "batch_normalization_3 (Batch (None, 33, 33, 128)       512       \n",
      "_________________________________________________________________\n",
      "max_pooling2d_2 (MaxPooling2 (None, 15, 15, 128)       0         \n",
      "_________________________________________________________________\n",
      "conv2d_4 (Conv2D)            (None, 15, 15, 256)       295168    \n",
      "_________________________________________________________________\n",
      "batch_normalization_4 (Batch (None, 15, 15, 256)       1024      \n",
      "_________________________________________________________________\n",
      "dropout_2 (Dropout)          (None, 15, 15, 256)       0         \n",
      "_________________________________________________________________\n",
      "conv2d_5 (Conv2D)            (None, 15, 15, 256)       590080    \n",
      "_________________________________________________________________\n",
      "max_pooling2d_3 (MaxPooling2 (None, 6, 6, 256)         0         \n",
      "_________________________________________________________________\n",
      "flatten_1 (Flatten)          (None, 9216)              0         \n",
      "_________________________________________________________________\n",
      "dropout_3 (Dropout)          (None, 9216)              0         \n",
      "_________________________________________________________________\n",
      "dense_1 (Dense)              (None, 1024)              9438208   \n",
      "_________________________________________________________________\n",
      "dropout_4 (Dropout)          (None, 1024)              0         \n",
      "_________________________________________________________________\n",
      "dense_2 (Dense)              (None, 512)               524800    \n",
      "_________________________________________________________________\n",
      "dropout_5 (Dropout)          (None, 512)               0         \n",
      "_________________________________________________________________\n",
      "dense_3 (Dense)              (None, 5)                 2565      \n",
      "=================================================================\n",
      "Total params: 11,076,357\n",
      "Trainable params: 11,075,205\n",
      "Non-trainable params: 1,152\n",
      "_________________________________________________________________\n"
     ]
    }
   ],
   "source": [
    "model = Sequential()\n",
    "\n",
    "model.add(ZeroPadding2D((2,2),input_shape=(64,64,3)))\n",
    "\n",
    "model.add(Convolution2D(64,(3, 3), activation='relu', padding='same'))\n",
    "model.add(BatchNormalization())\n",
    "model.add(MaxPooling2D((4,4), strides=(2,2)))\n",
    "model.add(Convolution2D(128,(3, 3), activation='relu', padding='same'))\n",
    "model.add(BatchNormalization())\n",
    "model.add(Dropout(0.2))\n",
    "\n",
    "model.add(Convolution2D(128,(3, 3), activation='relu', padding='same'))\n",
    "model.add(BatchNormalization())\n",
    "model.add(MaxPooling2D((4,4), strides=(2,2)))\n",
    "model.add(Convolution2D(256,(3, 3), activation='relu', padding='same'))\n",
    "model.add(BatchNormalization())\n",
    "model.add(Dropout(0.2))\n",
    "model.add(Convolution2D(256,(3, 3), activation='relu', padding='same'))\n",
    "model.add(MaxPooling2D((4,4), strides=(2,2)))\n",
    "\n",
    "model.add(Flatten())\n",
    "model.add(Dropout(0.2))\n",
    "model.add(Dense(1024, input_shape=(4096,), activation=\"relu\", kernel_constraint=maxnorm(3)))\n",
    "model.add(Dropout(0.2))\n",
    "model.add(Dense(512, activation='relu', kernel_constraint=maxnorm(3)))\n",
    "model.add(Dropout(0.2))\n",
    "model.add(Dense(len(lb.classes_), activation=\"softmax\", kernel_constraint=maxnorm(3)))\n",
    "model.summary()"
   ]
  },
  {
   "cell_type": "code",
   "execution_count": 10,
   "metadata": {
    "ExecuteTime": {
     "start_time": "2019-02-08T13:22:56.070Z"
    }
   },
   "outputs": [
    {
     "name": "stdout",
     "output_type": "stream",
     "text": [
      "[INFO] training network...\n"
     ]
    }
   ],
   "source": [
    "BS = 32\n",
    "INIT_LR = 0.0025\n",
    "EPOCHS = 30\n",
    "print(\"[INFO] training network...\")\n",
    "opt = SGD(lr=INIT_LR)\n",
    "model.compile(loss=\"categorical_crossentropy\", optimizer=opt,metrics=[\"accuracy\"])"
   ]
  },
  {
   "cell_type": "code",
   "execution_count": 11,
   "metadata": {
    "ExecuteTime": {
     "start_time": "2019-02-08T13:22:56.096Z"
    },
    "scrolled": true
   },
   "outputs": [
    {
     "name": "stdout",
     "output_type": "stream",
     "text": [
      "Train on 254 samples, validate on 85 samples\n",
      "Epoch 1/30\n",
      "254/254 [==============================] - 13s 51ms/step - loss: 3.4320 - acc: 0.1772 - val_loss: 1.8608 - val_acc: 0.1647\n",
      "Epoch 2/30\n",
      "254/254 [==============================] - 12s 46ms/step - loss: 2.2670 - acc: 0.2717 - val_loss: 1.7715 - val_acc: 0.2706\n",
      "Epoch 3/30\n",
      "254/254 [==============================] - 12s 48ms/step - loss: 1.6945 - acc: 0.3268 - val_loss: 1.7755 - val_acc: 0.2000\n",
      "Epoch 4/30\n",
      "254/254 [==============================] - 12s 47ms/step - loss: 1.4671 - acc: 0.3976 - val_loss: 1.3621 - val_acc: 0.3647\n",
      "Epoch 5/30\n",
      "254/254 [==============================] - 12s 49ms/step - loss: 1.3821 - acc: 0.4291 - val_loss: 1.2950 - val_acc: 0.5059\n",
      "Epoch 6/30\n",
      "254/254 [==============================] - 14s 55ms/step - loss: 1.2697 - acc: 0.4685 - val_loss: 1.4120 - val_acc: 0.3882\n",
      "Epoch 7/30\n",
      "254/254 [==============================] - 13s 53ms/step - loss: 1.2110 - acc: 0.5039 - val_loss: 1.3507 - val_acc: 0.4353\n",
      "Epoch 8/30\n",
      "254/254 [==============================] - 14s 55ms/step - loss: 1.1832 - acc: 0.5591 - val_loss: 1.3568 - val_acc: 0.4118\n",
      "Epoch 9/30\n",
      "254/254 [==============================] - 14s 54ms/step - loss: 1.0582 - acc: 0.5787 - val_loss: 1.2414 - val_acc: 0.5412\n",
      "Epoch 10/30\n",
      "254/254 [==============================] - 13s 51ms/step - loss: 1.0057 - acc: 0.6102 - val_loss: 1.2041 - val_acc: 0.5059\n",
      "Epoch 11/30\n",
      "254/254 [==============================] - 14s 57ms/step - loss: 0.9902 - acc: 0.6063 - val_loss: 1.1943 - val_acc: 0.5647\n",
      "Epoch 12/30\n",
      "254/254 [==============================] - 13s 50ms/step - loss: 0.8720 - acc: 0.6654 - val_loss: 1.1929 - val_acc: 0.4118\n",
      "Epoch 13/30\n",
      "254/254 [==============================] - 13s 52ms/step - loss: 0.8408 - acc: 0.6772 - val_loss: 1.0449 - val_acc: 0.5294\n",
      "Epoch 14/30\n",
      "254/254 [==============================] - 13s 51ms/step - loss: 0.7695 - acc: 0.7165 - val_loss: 1.0035 - val_acc: 0.6000\n",
      "Epoch 15/30\n",
      "254/254 [==============================] - 13s 50ms/step - loss: 0.6714 - acc: 0.7717 - val_loss: 1.0108 - val_acc: 0.6118\n",
      "Epoch 16/30\n",
      "254/254 [==============================] - 14s 54ms/step - loss: 0.6204 - acc: 0.7953 - val_loss: 1.0414 - val_acc: 0.5529\n",
      "Epoch 17/30\n",
      "254/254 [==============================] - 13s 53ms/step - loss: 0.6282 - acc: 0.7441 - val_loss: 0.9261 - val_acc: 0.6353\n",
      "Epoch 18/30\n",
      "254/254 [==============================] - 13s 52ms/step - loss: 0.5216 - acc: 0.8110 - val_loss: 0.7745 - val_acc: 0.7765\n",
      "Epoch 19/30\n",
      "254/254 [==============================] - 14s 54ms/step - loss: 0.5596 - acc: 0.7874 - val_loss: 0.9355 - val_acc: 0.6824\n",
      "Epoch 20/30\n",
      "254/254 [==============================] - 13s 50ms/step - loss: 0.5675 - acc: 0.7992 - val_loss: 0.8980 - val_acc: 0.6706\n",
      "Epoch 21/30\n",
      "254/254 [==============================] - 13s 50ms/step - loss: 0.4503 - acc: 0.8543 - val_loss: 0.7290 - val_acc: 0.8000\n",
      "Epoch 22/30\n",
      "254/254 [==============================] - 13s 53ms/step - loss: 0.5327 - acc: 0.8150 - val_loss: 1.1251 - val_acc: 0.5412\n",
      "Epoch 23/30\n",
      "254/254 [==============================] - 13s 52ms/step - loss: 0.3957 - acc: 0.8780 - val_loss: 0.7357 - val_acc: 0.6706\n",
      "Epoch 24/30\n",
      "254/254 [==============================] - 13s 51ms/step - loss: 0.3685 - acc: 0.8740 - val_loss: 0.6391 - val_acc: 0.7647\n",
      "Epoch 25/30\n",
      "254/254 [==============================] - 13s 51ms/step - loss: 0.3190 - acc: 0.9055 - val_loss: 0.6180 - val_acc: 0.7059\n",
      "Epoch 26/30\n",
      "254/254 [==============================] - 14s 55ms/step - loss: 0.3724 - acc: 0.8661 - val_loss: 0.6807 - val_acc: 0.7529\n",
      "Epoch 27/30\n",
      "254/254 [==============================] - 13s 50ms/step - loss: 0.3585 - acc: 0.8898 - val_loss: 0.5973 - val_acc: 0.8471\n",
      "Epoch 28/30\n",
      "254/254 [==============================] - 13s 51ms/step - loss: 0.3361 - acc: 0.9055 - val_loss: 0.5294 - val_acc: 0.9059\n",
      "Epoch 29/30\n",
      "254/254 [==============================] - 13s 53ms/step - loss: 0.3039 - acc: 0.9016 - val_loss: 0.5424 - val_acc: 0.8471\n",
      "Epoch 30/30\n",
      "254/254 [==============================] - 14s 56ms/step - loss: 0.2386 - acc: 0.9370 - val_loss: 0.4905 - val_acc: 0.9059\n"
     ]
    }
   ],
   "source": [
    "H = model.fit(trainX, trainY, validation_data=(testX, testY),epochs=EPOCHS, batch_size=BS)"
   ]
  },
  {
   "cell_type": "code",
   "execution_count": 12,
   "metadata": {
    "ExecuteTime": {
     "start_time": "2019-02-08T13:22:56.128Z"
    },
    "scrolled": true
   },
   "outputs": [
    {
     "name": "stdout",
     "output_type": "stream",
     "text": [
      "[INFO] evaluating network...\n",
      "                     precision    recall  f1-score   support\n",
      "\n",
      "       akshay_kumar       1.00      0.67      0.80        15\n",
      "       katrina_kaif       0.74      1.00      0.85        14\n",
      "nawazuddin_siddiqui       0.79      0.79      0.79        14\n",
      "      ranbir_kapoor       1.00      1.00      1.00        20\n",
      "        zarine_khan       1.00      1.00      1.00        22\n",
      "\n",
      "          micro avg       0.91      0.91      0.91        85\n",
      "          macro avg       0.90      0.89      0.89        85\n",
      "       weighted avg       0.92      0.91      0.90        85\n",
      "\n"
     ]
    },
    {
     "data": {
      "image/png": "[encoded data removed]",
      "text/plain": [
       "<Figure size 720x480 with 1 Axes>"
      ]
     },
     "metadata": {},
     "output_type": "display_data"
    }
   ],
   "source": [
    "print(\"[INFO] evaluating network...\")\n",
    "predictions = model.predict(testX, batch_size=BS)\n",
    "print(classification_report(testY.argmax(axis=1),predictions.argmax(axis=1), target_names=lb.classes_))\n",
    "# plot the training loss and accuracy\n",
    "N = np.arange(0, EPOCHS)\n",
    "plt.style.use(\"ggplot\")\n",
    "plt.figure(dpi=120)\n",
    "plt.plot(N, H.history[\"loss\"], label=\"train_loss\")\n",
    "plt.plot(N, H.history[\"val_loss\"], label=\"val_loss\")\n",
    "plt.plot(N, H.history[\"acc\"], label=\"train_acc\")\n",
    "plt.plot(N, H.history[\"val_acc\"], label=\"val_acc\")\n",
    "plt.title(\"Training Loss and Accuracy (SmallVGGNet)\")\n",
    "plt.xlabel(\"Epoch #\")\n",
    "plt.ylabel(\"Loss/Accuracy\")\n",
    "plt.legend()\n",
    "plt.savefig('stats.png')"
   ]
  },
  {
   "cell_type": "markdown",
   "metadata": {},
   "source": [
    "## Total Accuracy of the Model"
   ]
  },
  {
   "cell_type": "code",
   "execution_count": 13,
   "metadata": {},
   "outputs": [
    {
     "name": "stdout",
     "output_type": "stream",
     "text": [
      "Accuracy: 90.59%\n"
     ]
    }
   ],
   "source": [
    "scores = model.evaluate(testX, testY, verbose=0)\n",
    "print(\"Accuracy: %.2f%%\" % (scores[1]*100))"
   ]
  },
  {
   "cell_type": "code",
   "execution_count": null,
   "metadata": {},
   "outputs": [],
   "source": []
  },
  {
   "cell_type": "code",
   "execution_count": null,
   "metadata": {},
   "outputs": [],
   "source": []
  }
 ],
 "metadata": {
  "hide_input": false,
  "kernelspec": {
   "display_name": "Python 3",
   "language": "python",
   "name": "python3"
  },
  "language_info": {
   "codemirror_mode": {
    "name": "ipython",
    "version": 3
   },
   "file_extension": ".py",
   "mimetype": "text/x-python",
   "name": "python",
   "nbconvert_exporter": "python",
   "pygments_lexer": "ipython3",
   "version": "3.6.7"
  },
  "nbTranslate": {
   "displayLangs": [
    "*"
   ],
   "hotkey": "alt-t",
   "langInMainMenu": true,
   "sourceLang": "en",
   "targetLang": "fr",
   "useGoogleTranslate": true
  },
  "toc": {
   "base_numbering": 1,
   "nav_menu": {},
   "number_sections": true,
   "sideBar": true,
   "skip_h1_title": false,
   "title_cell": "Table of Contents",
   "title_sidebar": "Contents",
   "toc_cell": false,
   "toc_position": {},
   "toc_section_display": true,
   "toc_window_display": false
  },
  "varInspector": {
   "cols": {
    "lenName": 16,
    "lenType": 16,
    "lenVar": 40
   },
   "kernels_config": {
    "python": {
     "delete_cmd_postfix": "",
     "delete_cmd_prefix": "del ",
     "library": "var_list.py",
     "varRefreshCmd": "print(var_dic_list())"
    },
    "r": {
     "delete_cmd_postfix": ") ",
     "delete_cmd_prefix": "rm(",
     "library": "var_list.r",
     "varRefreshCmd": "cat(var_dic_list()) "
    }
   },
   "types_to_exclude": [
    "module",
    "function",
    "builtin_function_or_method",
    "instance",
    "_Feature"
   ],
   "window_display": false
  }
 },
 "nbformat": 4,
 "nbformat_minor": 2
}
